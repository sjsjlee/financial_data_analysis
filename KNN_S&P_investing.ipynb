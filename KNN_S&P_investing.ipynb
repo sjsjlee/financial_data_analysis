{
  "nbformat": 4,
  "nbformat_minor": 0,
  "metadata": {
    "colab": {
      "name": "KNN_S&P_investing.ipynb",
      "provenance": [],
      "collapsed_sections": [],
      "authorship_tag": "ABX9TyMR9KP8N3xCoWU7E6tegaxD",
      "include_colab_link": true
    },
    "kernelspec": {
      "name": "python3",
      "display_name": "Python 3"
    },
    "language_info": {
      "name": "python"
    }
  },
  "cells": [
    {
      "cell_type": "markdown",
      "metadata": {
        "id": "view-in-github",
        "colab_type": "text"
      },
      "source": [
        "<a href=\"https://colab.research.google.com/github/sjsjlee/study_financial_data_analysis/blob/main/KNN_S%26P_investing.ipynb\" target=\"_parent\"><img src=\"https://colab.research.google.com/assets/colab-badge.svg\" alt=\"Open In Colab\"/></a>"
      ]
    },
    {
      "cell_type": "markdown",
      "metadata": {
        "id": "7GEURGMUfbmL"
      },
      "source": [
        "#0. Import Libraries"
      ]
    },
    {
      "cell_type": "code",
      "metadata": {
        "colab": {
          "base_uri": "https://localhost:8080/"
        },
        "id": "cMxnVJpxj6Ot",
        "outputId": "4cb796ba-ef4e-4c11-8c4e-825aa3b64fd2"
      },
      "source": [
        "!pip install yfinance"
      ],
      "execution_count": null,
      "outputs": [
        {
          "output_type": "stream",
          "text": [
            "Collecting yfinance\n",
            "  Downloading yfinance-0.1.63.tar.gz (26 kB)\n",
            "Requirement already satisfied: pandas>=0.24 in /usr/local/lib/python3.7/dist-packages (from yfinance) (1.1.5)\n",
            "Requirement already satisfied: numpy>=1.15 in /usr/local/lib/python3.7/dist-packages (from yfinance) (1.19.5)\n",
            "Requirement already satisfied: requests>=2.20 in /usr/local/lib/python3.7/dist-packages (from yfinance) (2.23.0)\n",
            "Requirement already satisfied: multitasking>=0.0.7 in /usr/local/lib/python3.7/dist-packages (from yfinance) (0.0.9)\n",
            "Collecting lxml>=4.5.1\n",
            "  Downloading lxml-4.6.3-cp37-cp37m-manylinux2014_x86_64.whl (6.3 MB)\n",
            "\u001b[K     |████████████████████████████████| 6.3 MB 5.9 MB/s \n",
            "\u001b[?25hRequirement already satisfied: pytz>=2017.2 in /usr/local/lib/python3.7/dist-packages (from pandas>=0.24->yfinance) (2018.9)\n",
            "Requirement already satisfied: python-dateutil>=2.7.3 in /usr/local/lib/python3.7/dist-packages (from pandas>=0.24->yfinance) (2.8.1)\n",
            "Requirement already satisfied: six>=1.5 in /usr/local/lib/python3.7/dist-packages (from python-dateutil>=2.7.3->pandas>=0.24->yfinance) (1.15.0)\n",
            "Requirement already satisfied: chardet<4,>=3.0.2 in /usr/local/lib/python3.7/dist-packages (from requests>=2.20->yfinance) (3.0.4)\n",
            "Requirement already satisfied: certifi>=2017.4.17 in /usr/local/lib/python3.7/dist-packages (from requests>=2.20->yfinance) (2021.5.30)\n",
            "Requirement already satisfied: urllib3!=1.25.0,!=1.25.1,<1.26,>=1.21.1 in /usr/local/lib/python3.7/dist-packages (from requests>=2.20->yfinance) (1.24.3)\n",
            "Requirement already satisfied: idna<3,>=2.5 in /usr/local/lib/python3.7/dist-packages (from requests>=2.20->yfinance) (2.10)\n",
            "Building wheels for collected packages: yfinance\n",
            "  Building wheel for yfinance (setup.py) ... \u001b[?25l\u001b[?25hdone\n",
            "  Created wheel for yfinance: filename=yfinance-0.1.63-py2.py3-none-any.whl size=23919 sha256=a2aaaa00f4aa774f24bfdb520393dfb8a249b4ac1e5db8a10125fc9e6c8fc1ba\n",
            "  Stored in directory: /root/.cache/pip/wheels/fe/87/8b/7ec24486e001d3926537f5f7801f57a74d181be25b11157983\n",
            "Successfully built yfinance\n",
            "Installing collected packages: lxml, yfinance\n",
            "  Attempting uninstall: lxml\n",
            "    Found existing installation: lxml 4.2.6\n",
            "    Uninstalling lxml-4.2.6:\n",
            "      Successfully uninstalled lxml-4.2.6\n",
            "Successfully installed lxml-4.6.3 yfinance-0.1.63\n"
          ],
          "name": "stdout"
        }
      ]
    },
    {
      "cell_type": "code",
      "metadata": {
        "id": "FIewnZVlilCt"
      },
      "source": [
        "import pandas as pd\n",
        "import numpy as np\n",
        "import matplotlib.pyplot as plt\n",
        "%matplotlib inline\n",
        "from tqdm import tqdm\n",
        "\n",
        "import yfinance as yf\n",
        "from pandas_datareader import data as pdr\n",
        "pd.core.common.is_list_like = pd.api.types.is_list_like\n",
        "yf.pdr_override()\n",
        "\n",
        "from sklearn.neighbors import KNeighborsClassifier\n",
        "from sklearn.preprocessing import StandardScaler\n",
        "from sklearn.metrics import accuracy_score\n",
        "from sklearn.model_selection import train_test_split"
      ],
      "execution_count": null,
      "outputs": []
    },
    {
      "cell_type": "markdown",
      "metadata": {
        "id": "Z885iCzQg7F7"
      },
      "source": [
        "#1. Get Data"
      ]
    },
    {
      "cell_type": "markdown",
      "metadata": {
        "id": "rkxpOC4Eg-1R"
      },
      "source": [
        "##1-1. get data from yahoo finance"
      ]
    },
    {
      "cell_type": "code",
      "metadata": {
        "colab": {
          "base_uri": "https://localhost:8080/",
          "height": 462
        },
        "id": "rFZ3akQJkYyB",
        "outputId": "48eb3bce-dab7-44e2-d627-4186eddc8e85"
      },
      "source": [
        "spy_df = pdr.get_data_yahoo('SPY', '2012-01-01', '2021-07-31')\n",
        "spy_df"
      ],
      "execution_count": null,
      "outputs": [
        {
          "output_type": "stream",
          "text": [
            "\r[*********************100%***********************]  1 of 1 completed\n"
          ],
          "name": "stdout"
        },
        {
          "output_type": "execute_result",
          "data": {
            "text/html": [
              "<div>\n",
              "<style scoped>\n",
              "    .dataframe tbody tr th:only-of-type {\n",
              "        vertical-align: middle;\n",
              "    }\n",
              "\n",
              "    .dataframe tbody tr th {\n",
              "        vertical-align: top;\n",
              "    }\n",
              "\n",
              "    .dataframe thead th {\n",
              "        text-align: right;\n",
              "    }\n",
              "</style>\n",
              "<table border=\"1\" class=\"dataframe\">\n",
              "  <thead>\n",
              "    <tr style=\"text-align: right;\">\n",
              "      <th></th>\n",
              "      <th>Open</th>\n",
              "      <th>High</th>\n",
              "      <th>Low</th>\n",
              "      <th>Close</th>\n",
              "      <th>Adj Close</th>\n",
              "      <th>Volume</th>\n",
              "    </tr>\n",
              "    <tr>\n",
              "      <th>Date</th>\n",
              "      <th></th>\n",
              "      <th></th>\n",
              "      <th></th>\n",
              "      <th></th>\n",
              "      <th></th>\n",
              "      <th></th>\n",
              "    </tr>\n",
              "  </thead>\n",
              "  <tbody>\n",
              "    <tr>\n",
              "      <th>2012-01-03</th>\n",
              "      <td>127.760002</td>\n",
              "      <td>128.380005</td>\n",
              "      <td>127.430000</td>\n",
              "      <td>127.500000</td>\n",
              "      <td>105.985199</td>\n",
              "      <td>193697900</td>\n",
              "    </tr>\n",
              "    <tr>\n",
              "      <th>2012-01-04</th>\n",
              "      <td>127.199997</td>\n",
              "      <td>127.809998</td>\n",
              "      <td>126.709999</td>\n",
              "      <td>127.699997</td>\n",
              "      <td>106.151421</td>\n",
              "      <td>127186500</td>\n",
              "    </tr>\n",
              "    <tr>\n",
              "      <th>2012-01-05</th>\n",
              "      <td>127.010002</td>\n",
              "      <td>128.229996</td>\n",
              "      <td>126.430000</td>\n",
              "      <td>128.039993</td>\n",
              "      <td>106.434067</td>\n",
              "      <td>173895000</td>\n",
              "    </tr>\n",
              "    <tr>\n",
              "      <th>2012-01-06</th>\n",
              "      <td>128.199997</td>\n",
              "      <td>128.220001</td>\n",
              "      <td>127.290001</td>\n",
              "      <td>127.709999</td>\n",
              "      <td>106.159752</td>\n",
              "      <td>148050000</td>\n",
              "    </tr>\n",
              "    <tr>\n",
              "      <th>2012-01-09</th>\n",
              "      <td>128.000000</td>\n",
              "      <td>128.179993</td>\n",
              "      <td>127.410004</td>\n",
              "      <td>128.020004</td>\n",
              "      <td>106.417435</td>\n",
              "      <td>99530200</td>\n",
              "    </tr>\n",
              "    <tr>\n",
              "      <th>...</th>\n",
              "      <td>...</td>\n",
              "      <td>...</td>\n",
              "      <td>...</td>\n",
              "      <td>...</td>\n",
              "      <td>...</td>\n",
              "      <td>...</td>\n",
              "    </tr>\n",
              "    <tr>\n",
              "      <th>2021-07-26</th>\n",
              "      <td>439.309998</td>\n",
              "      <td>441.029999</td>\n",
              "      <td>439.260010</td>\n",
              "      <td>441.019989</td>\n",
              "      <td>441.019989</td>\n",
              "      <td>43719200</td>\n",
              "    </tr>\n",
              "    <tr>\n",
              "      <th>2021-07-27</th>\n",
              "      <td>439.910004</td>\n",
              "      <td>439.940002</td>\n",
              "      <td>435.989990</td>\n",
              "      <td>439.010010</td>\n",
              "      <td>439.010010</td>\n",
              "      <td>67397100</td>\n",
              "    </tr>\n",
              "    <tr>\n",
              "      <th>2021-07-28</th>\n",
              "      <td>439.679993</td>\n",
              "      <td>440.299988</td>\n",
              "      <td>437.309998</td>\n",
              "      <td>438.829987</td>\n",
              "      <td>438.829987</td>\n",
              "      <td>52472400</td>\n",
              "    </tr>\n",
              "    <tr>\n",
              "      <th>2021-07-29</th>\n",
              "      <td>439.820007</td>\n",
              "      <td>441.799988</td>\n",
              "      <td>439.809998</td>\n",
              "      <td>440.649994</td>\n",
              "      <td>440.649994</td>\n",
              "      <td>47435300</td>\n",
              "    </tr>\n",
              "    <tr>\n",
              "      <th>2021-07-30</th>\n",
              "      <td>437.910004</td>\n",
              "      <td>440.059998</td>\n",
              "      <td>437.769989</td>\n",
              "      <td>438.510010</td>\n",
              "      <td>438.510010</td>\n",
              "      <td>68890600</td>\n",
              "    </tr>\n",
              "  </tbody>\n",
              "</table>\n",
              "<p>2410 rows × 6 columns</p>\n",
              "</div>"
            ],
            "text/plain": [
              "                  Open        High  ...   Adj Close     Volume\n",
              "Date                                ...                       \n",
              "2012-01-03  127.760002  128.380005  ...  105.985199  193697900\n",
              "2012-01-04  127.199997  127.809998  ...  106.151421  127186500\n",
              "2012-01-05  127.010002  128.229996  ...  106.434067  173895000\n",
              "2012-01-06  128.199997  128.220001  ...  106.159752  148050000\n",
              "2012-01-09  128.000000  128.179993  ...  106.417435   99530200\n",
              "...                ...         ...  ...         ...        ...\n",
              "2021-07-26  439.309998  441.029999  ...  441.019989   43719200\n",
              "2021-07-27  439.910004  439.940002  ...  439.010010   67397100\n",
              "2021-07-28  439.679993  440.299988  ...  438.829987   52472400\n",
              "2021-07-29  439.820007  441.799988  ...  440.649994   47435300\n",
              "2021-07-30  437.910004  440.059998  ...  438.510010   68890600\n",
              "\n",
              "[2410 rows x 6 columns]"
            ]
          },
          "metadata": {
            "tags": []
          },
          "execution_count": 8
        }
      ]
    },
    {
      "cell_type": "code",
      "metadata": {
        "colab": {
          "base_uri": "https://localhost:8080/"
        },
        "id": "7IauAUfQlMkA",
        "outputId": "1dc824a8-73d6-4bf0-d6b8-a4cf887b4799"
      },
      "source": [
        "spy_df.info()"
      ],
      "execution_count": null,
      "outputs": [
        {
          "output_type": "stream",
          "text": [
            "<class 'pandas.core.frame.DataFrame'>\n",
            "DatetimeIndex: 2410 entries, 2012-01-03 to 2021-07-30\n",
            "Data columns (total 6 columns):\n",
            " #   Column     Non-Null Count  Dtype  \n",
            "---  ------     --------------  -----  \n",
            " 0   Open       2410 non-null   float64\n",
            " 1   High       2410 non-null   float64\n",
            " 2   Low        2410 non-null   float64\n",
            " 3   Close      2410 non-null   float64\n",
            " 4   Adj Close  2410 non-null   float64\n",
            " 5   Volume     2410 non-null   int64  \n",
            "dtypes: float64(5), int64(1)\n",
            "memory usage: 131.8 KB\n"
          ],
          "name": "stdout"
        }
      ]
    },
    {
      "cell_type": "code",
      "metadata": {
        "colab": {
          "base_uri": "https://localhost:8080/",
          "height": 294
        },
        "id": "cOFzQpWCldpM",
        "outputId": "983c881f-f7d4-4954-c656-0e05a5cc13e1"
      },
      "source": [
        "spy_df.describe()"
      ],
      "execution_count": null,
      "outputs": [
        {
          "output_type": "execute_result",
          "data": {
            "text/html": [
              "<div>\n",
              "<style scoped>\n",
              "    .dataframe tbody tr th:only-of-type {\n",
              "        vertical-align: middle;\n",
              "    }\n",
              "\n",
              "    .dataframe tbody tr th {\n",
              "        vertical-align: top;\n",
              "    }\n",
              "\n",
              "    .dataframe thead th {\n",
              "        text-align: right;\n",
              "    }\n",
              "</style>\n",
              "<table border=\"1\" class=\"dataframe\">\n",
              "  <thead>\n",
              "    <tr style=\"text-align: right;\">\n",
              "      <th></th>\n",
              "      <th>Open</th>\n",
              "      <th>High</th>\n",
              "      <th>Low</th>\n",
              "      <th>Close</th>\n",
              "      <th>Adj Close</th>\n",
              "      <th>Volume</th>\n",
              "    </tr>\n",
              "  </thead>\n",
              "  <tbody>\n",
              "    <tr>\n",
              "      <th>count</th>\n",
              "      <td>2410.000000</td>\n",
              "      <td>2410.000000</td>\n",
              "      <td>2410.000000</td>\n",
              "      <td>2410.000000</td>\n",
              "      <td>2410.000000</td>\n",
              "      <td>2.410000e+03</td>\n",
              "    </tr>\n",
              "    <tr>\n",
              "      <th>mean</th>\n",
              "      <td>237.817124</td>\n",
              "      <td>238.992481</td>\n",
              "      <td>236.535772</td>\n",
              "      <td>237.861900</td>\n",
              "      <td>221.121609</td>\n",
              "      <td>1.027442e+08</td>\n",
              "    </tr>\n",
              "    <tr>\n",
              "      <th>std</th>\n",
              "      <td>71.309388</td>\n",
              "      <td>71.693663</td>\n",
              "      <td>70.869372</td>\n",
              "      <td>71.314943</td>\n",
              "      <td>77.991543</td>\n",
              "      <td>5.102136e+07</td>\n",
              "    </tr>\n",
              "    <tr>\n",
              "      <th>min</th>\n",
              "      <td>127.010002</td>\n",
              "      <td>127.809998</td>\n",
              "      <td>126.430000</td>\n",
              "      <td>127.500000</td>\n",
              "      <td>105.985199</td>\n",
              "      <td>2.027000e+07</td>\n",
              "    </tr>\n",
              "    <tr>\n",
              "      <th>25%</th>\n",
              "      <td>188.419998</td>\n",
              "      <td>189.160000</td>\n",
              "      <td>187.165001</td>\n",
              "      <td>188.122498</td>\n",
              "      <td>165.114388</td>\n",
              "      <td>6.599955e+07</td>\n",
              "    </tr>\n",
              "    <tr>\n",
              "      <th>50%</th>\n",
              "      <td>217.384995</td>\n",
              "      <td>218.209999</td>\n",
              "      <td>216.590004</td>\n",
              "      <td>217.514999</td>\n",
              "      <td>198.493622</td>\n",
              "      <td>9.071610e+07</td>\n",
              "    </tr>\n",
              "    <tr>\n",
              "      <th>75%</th>\n",
              "      <td>282.582504</td>\n",
              "      <td>284.157501</td>\n",
              "      <td>280.679993</td>\n",
              "      <td>282.757500</td>\n",
              "      <td>270.377373</td>\n",
              "      <td>1.266668e+08</td>\n",
              "    </tr>\n",
              "    <tr>\n",
              "      <th>max</th>\n",
              "      <td>439.910004</td>\n",
              "      <td>441.799988</td>\n",
              "      <td>439.809998</td>\n",
              "      <td>441.019989</td>\n",
              "      <td>441.019989</td>\n",
              "      <td>5.072443e+08</td>\n",
              "    </tr>\n",
              "  </tbody>\n",
              "</table>\n",
              "</div>"
            ],
            "text/plain": [
              "              Open         High  ...    Adj Close        Volume\n",
              "count  2410.000000  2410.000000  ...  2410.000000  2.410000e+03\n",
              "mean    237.817124   238.992481  ...   221.121609  1.027442e+08\n",
              "std      71.309388    71.693663  ...    77.991543  5.102136e+07\n",
              "min     127.010002   127.809998  ...   105.985199  2.027000e+07\n",
              "25%     188.419998   189.160000  ...   165.114388  6.599955e+07\n",
              "50%     217.384995   218.209999  ...   198.493622  9.071610e+07\n",
              "75%     282.582504   284.157501  ...   270.377373  1.266668e+08\n",
              "max     439.910004   441.799988  ...   441.019989  5.072443e+08\n",
              "\n",
              "[8 rows x 6 columns]"
            ]
          },
          "metadata": {
            "tags": []
          },
          "execution_count": 11
        }
      ]
    },
    {
      "cell_type": "markdown",
      "metadata": {
        "id": "5JhiLx4kg7S9"
      },
      "source": [
        "##1-2. Feature&Target data"
      ]
    },
    {
      "cell_type": "code",
      "metadata": {
        "colab": {
          "base_uri": "https://localhost:8080/",
          "height": 250
        },
        "id": "xIqanOEYlLTq",
        "outputId": "c46bedef-1226-43e8-80e3-c86dcd18d7eb"
      },
      "source": [
        "tmp_df = spy_df.copy()\n",
        "print(tmp_df.shape)\n",
        "tmp_df.head()"
      ],
      "execution_count": null,
      "outputs": [
        {
          "output_type": "stream",
          "text": [
            "(2410, 6)\n"
          ],
          "name": "stdout"
        },
        {
          "output_type": "execute_result",
          "data": {
            "text/html": [
              "<div>\n",
              "<style scoped>\n",
              "    .dataframe tbody tr th:only-of-type {\n",
              "        vertical-align: middle;\n",
              "    }\n",
              "\n",
              "    .dataframe tbody tr th {\n",
              "        vertical-align: top;\n",
              "    }\n",
              "\n",
              "    .dataframe thead th {\n",
              "        text-align: right;\n",
              "    }\n",
              "</style>\n",
              "<table border=\"1\" class=\"dataframe\">\n",
              "  <thead>\n",
              "    <tr style=\"text-align: right;\">\n",
              "      <th></th>\n",
              "      <th>Open</th>\n",
              "      <th>High</th>\n",
              "      <th>Low</th>\n",
              "      <th>Close</th>\n",
              "      <th>Adj Close</th>\n",
              "      <th>Volume</th>\n",
              "    </tr>\n",
              "    <tr>\n",
              "      <th>Date</th>\n",
              "      <th></th>\n",
              "      <th></th>\n",
              "      <th></th>\n",
              "      <th></th>\n",
              "      <th></th>\n",
              "      <th></th>\n",
              "    </tr>\n",
              "  </thead>\n",
              "  <tbody>\n",
              "    <tr>\n",
              "      <th>2012-01-03</th>\n",
              "      <td>127.760002</td>\n",
              "      <td>128.380005</td>\n",
              "      <td>127.430000</td>\n",
              "      <td>127.500000</td>\n",
              "      <td>105.985199</td>\n",
              "      <td>193697900</td>\n",
              "    </tr>\n",
              "    <tr>\n",
              "      <th>2012-01-04</th>\n",
              "      <td>127.199997</td>\n",
              "      <td>127.809998</td>\n",
              "      <td>126.709999</td>\n",
              "      <td>127.699997</td>\n",
              "      <td>106.151421</td>\n",
              "      <td>127186500</td>\n",
              "    </tr>\n",
              "    <tr>\n",
              "      <th>2012-01-05</th>\n",
              "      <td>127.010002</td>\n",
              "      <td>128.229996</td>\n",
              "      <td>126.430000</td>\n",
              "      <td>128.039993</td>\n",
              "      <td>106.434067</td>\n",
              "      <td>173895000</td>\n",
              "    </tr>\n",
              "    <tr>\n",
              "      <th>2012-01-06</th>\n",
              "      <td>128.199997</td>\n",
              "      <td>128.220001</td>\n",
              "      <td>127.290001</td>\n",
              "      <td>127.709999</td>\n",
              "      <td>106.159752</td>\n",
              "      <td>148050000</td>\n",
              "    </tr>\n",
              "    <tr>\n",
              "      <th>2012-01-09</th>\n",
              "      <td>128.000000</td>\n",
              "      <td>128.179993</td>\n",
              "      <td>127.410004</td>\n",
              "      <td>128.020004</td>\n",
              "      <td>106.417435</td>\n",
              "      <td>99530200</td>\n",
              "    </tr>\n",
              "  </tbody>\n",
              "</table>\n",
              "</div>"
            ],
            "text/plain": [
              "                  Open        High  ...   Adj Close     Volume\n",
              "Date                                ...                       \n",
              "2012-01-03  127.760002  128.380005  ...  105.985199  193697900\n",
              "2012-01-04  127.199997  127.809998  ...  106.151421  127186500\n",
              "2012-01-05  127.010002  128.229996  ...  106.434067  173895000\n",
              "2012-01-06  128.199997  128.220001  ...  106.159752  148050000\n",
              "2012-01-09  128.000000  128.179993  ...  106.417435   99530200\n",
              "\n",
              "[5 rows x 6 columns]"
            ]
          },
          "metadata": {
            "tags": []
          },
          "execution_count": 12
        }
      ]
    },
    {
      "cell_type": "code",
      "metadata": {
        "id": "0Qf7PdQkmvwF"
      },
      "source": [
        "tmp_df = tmp_df[tmp_df.columns[:4]]"
      ],
      "execution_count": null,
      "outputs": []
    },
    {
      "cell_type": "code",
      "metadata": {
        "id": "3UFS5d_Rmv2u"
      },
      "source": [
        "#변동성 지표1 : 시초가-종가\n",
        "\n",
        "tmp_df['OC'] = tmp_df['Open'] - tmp_df['Close']"
      ],
      "execution_count": null,
      "outputs": []
    },
    {
      "cell_type": "code",
      "metadata": {
        "id": "brtXTatJmwNj"
      },
      "source": [
        "# 변동성 지표2 : 고가-저가\n",
        "\n",
        "tmp_df['HL']= tmp_df['High'] - tmp_df['Low']"
      ],
      "execution_count": null,
      "outputs": []
    },
    {
      "cell_type": "code",
      "metadata": {
        "colab": {
          "base_uri": "https://localhost:8080/",
          "height": 445
        },
        "id": "BducRAY_nxPb",
        "outputId": "61b13e8e-7c8e-4831-a7ac-19c5e21d2fbf"
      },
      "source": [
        "#feature 데이터셋\n",
        "\n",
        "x_val = tmp_df[['OC', 'HL']]\n",
        "x_val"
      ],
      "execution_count": null,
      "outputs": [
        {
          "output_type": "execute_result",
          "data": {
            "text/html": [
              "<div>\n",
              "<style scoped>\n",
              "    .dataframe tbody tr th:only-of-type {\n",
              "        vertical-align: middle;\n",
              "    }\n",
              "\n",
              "    .dataframe tbody tr th {\n",
              "        vertical-align: top;\n",
              "    }\n",
              "\n",
              "    .dataframe thead th {\n",
              "        text-align: right;\n",
              "    }\n",
              "</style>\n",
              "<table border=\"1\" class=\"dataframe\">\n",
              "  <thead>\n",
              "    <tr style=\"text-align: right;\">\n",
              "      <th></th>\n",
              "      <th>OC</th>\n",
              "      <th>HL</th>\n",
              "    </tr>\n",
              "    <tr>\n",
              "      <th>Date</th>\n",
              "      <th></th>\n",
              "      <th></th>\n",
              "    </tr>\n",
              "  </thead>\n",
              "  <tbody>\n",
              "    <tr>\n",
              "      <th>2012-01-03</th>\n",
              "      <td>0.260002</td>\n",
              "      <td>0.950005</td>\n",
              "    </tr>\n",
              "    <tr>\n",
              "      <th>2012-01-04</th>\n",
              "      <td>-0.500000</td>\n",
              "      <td>1.099998</td>\n",
              "    </tr>\n",
              "    <tr>\n",
              "      <th>2012-01-05</th>\n",
              "      <td>-1.029991</td>\n",
              "      <td>1.799995</td>\n",
              "    </tr>\n",
              "    <tr>\n",
              "      <th>2012-01-06</th>\n",
              "      <td>0.489998</td>\n",
              "      <td>0.930000</td>\n",
              "    </tr>\n",
              "    <tr>\n",
              "      <th>2012-01-09</th>\n",
              "      <td>-0.020004</td>\n",
              "      <td>0.769989</td>\n",
              "    </tr>\n",
              "    <tr>\n",
              "      <th>...</th>\n",
              "      <td>...</td>\n",
              "      <td>...</td>\n",
              "    </tr>\n",
              "    <tr>\n",
              "      <th>2021-07-26</th>\n",
              "      <td>-1.709991</td>\n",
              "      <td>1.769989</td>\n",
              "    </tr>\n",
              "    <tr>\n",
              "      <th>2021-07-27</th>\n",
              "      <td>0.899994</td>\n",
              "      <td>3.950012</td>\n",
              "    </tr>\n",
              "    <tr>\n",
              "      <th>2021-07-28</th>\n",
              "      <td>0.850006</td>\n",
              "      <td>2.989990</td>\n",
              "    </tr>\n",
              "    <tr>\n",
              "      <th>2021-07-29</th>\n",
              "      <td>-0.829987</td>\n",
              "      <td>1.989990</td>\n",
              "    </tr>\n",
              "    <tr>\n",
              "      <th>2021-07-30</th>\n",
              "      <td>-0.600006</td>\n",
              "      <td>2.290009</td>\n",
              "    </tr>\n",
              "  </tbody>\n",
              "</table>\n",
              "<p>2410 rows × 2 columns</p>\n",
              "</div>"
            ],
            "text/plain": [
              "                  OC        HL\n",
              "Date                          \n",
              "2012-01-03  0.260002  0.950005\n",
              "2012-01-04 -0.500000  1.099998\n",
              "2012-01-05 -1.029991  1.799995\n",
              "2012-01-06  0.489998  0.930000\n",
              "2012-01-09 -0.020004  0.769989\n",
              "...              ...       ...\n",
              "2021-07-26 -1.709991  1.769989\n",
              "2021-07-27  0.899994  3.950012\n",
              "2021-07-28  0.850006  2.989990\n",
              "2021-07-29 -0.829987  1.989990\n",
              "2021-07-30 -0.600006  2.290009\n",
              "\n",
              "[2410 rows x 2 columns]"
            ]
          },
          "metadata": {
            "tags": []
          },
          "execution_count": 20
        }
      ]
    },
    {
      "cell_type": "code",
      "metadata": {
        "colab": {
          "base_uri": "https://localhost:8080/"
        },
        "id": "V6emAVhho3Zc",
        "outputId": "9d2907aa-a091-4c1b-b4d9-7e0e1e27a2b0"
      },
      "source": [
        "#y_val => 타겟 데이터셋\n",
        "#np.where(조건, 참일경우값, 거짓일경우값)\n",
        "\n",
        "y_val = np.where(tmp_df['Close'].shift(-1) > tmp_df['Open'].shift(-1), 1, -1)\n",
        "y_val"
      ],
      "execution_count": null,
      "outputs": [
        {
          "output_type": "execute_result",
          "data": {
            "text/plain": [
              "array([ 1,  1, -1, ...,  1,  1, -1])"
            ]
          },
          "metadata": {
            "tags": []
          },
          "execution_count": 25
        }
      ]
    },
    {
      "cell_type": "code",
      "metadata": {
        "colab": {
          "base_uri": "https://localhost:8080/"
        },
        "id": "BzxmxBN2rKbQ",
        "outputId": "f39e15c5-7d76-4bb0-93bc-00766b802e81"
      },
      "source": [
        "# shift 사용시 그 다음날 값 보여줌\n",
        "\n",
        "mp_df['Close'].shift(-1)"
      ],
      "execution_count": null,
      "outputs": [
        {
          "output_type": "execute_result",
          "data": {
            "text/plain": [
              "Date\n",
              "2012-01-03    127.699997\n",
              "2012-01-04    128.039993\n",
              "2012-01-05    127.709999\n",
              "2012-01-06    128.020004\n",
              "2012-01-09    129.130005\n",
              "                 ...    \n",
              "2021-07-26    439.010010\n",
              "2021-07-27    438.829987\n",
              "2021-07-28    440.649994\n",
              "2021-07-29    438.510010\n",
              "2021-07-30           NaN\n",
              "Name: Close, Length: 2410, dtype: float64"
            ]
          },
          "metadata": {
            "tags": []
          },
          "execution_count": 21
        }
      ]
    },
    {
      "cell_type": "code",
      "metadata": {
        "colab": {
          "base_uri": "https://localhost:8080/"
        },
        "id": "rg5NERdkrO9T",
        "outputId": "40eb1d60-f310-462b-e641-b3dca319db87"
      },
      "source": [
        "# 내일의 종가 > 내일의 시가\n",
        "# 다음날 지수가 오르는 지 확인하기 위해서 사용\n",
        "\n",
        "tmp_df['Close'].shift(-1) > tmp_df['Open'].shift(-1)"
      ],
      "execution_count": null,
      "outputs": [
        {
          "output_type": "execute_result",
          "data": {
            "text/plain": [
              "Date\n",
              "2012-01-03     True\n",
              "2012-01-04     True\n",
              "2012-01-05    False\n",
              "2012-01-06     True\n",
              "2012-01-09    False\n",
              "              ...  \n",
              "2021-07-26    False\n",
              "2021-07-27    False\n",
              "2021-07-28     True\n",
              "2021-07-29     True\n",
              "2021-07-30    False\n",
              "Length: 2410, dtype: bool"
            ]
          },
          "metadata": {
            "tags": []
          },
          "execution_count": 22
        }
      ]
    },
    {
      "cell_type": "markdown",
      "metadata": {
        "id": "-wmqiKIPg7cV"
      },
      "source": [
        "##1-3. Visualiztion Feature data"
      ]
    },
    {
      "cell_type": "code",
      "metadata": {
        "id": "OoYdrThruZyr"
      },
      "source": [
        "x_min, x_max = x_val['OC'].min() - .5,  x_val['OC'].max() + .5\n",
        "y_min, y_max = x_val['HL'].min() - .5, x_val['HL'].max() + .5"
      ],
      "execution_count": null,
      "outputs": []
    },
    {
      "cell_type": "code",
      "metadata": {
        "colab": {
          "base_uri": "https://localhost:8080/",
          "height": 520
        },
        "id": "3ivTiE3UrOVO",
        "outputId": "eecd087f-60d4-468b-f33d-f22aeaf4271e"
      },
      "source": [
        "# 산포도\n",
        "\n",
        "plt.figure(figsize=(10, 8))\n",
        "\n",
        "# plt.scatter(x축 = 'OC', y축 = 'HL')\n",
        "# https://matplotlib.org/stable/api/_as_gen/matplotlib.colors.Colormap.html#matplotlib.colors.Colormap\n",
        "\n",
        "plt.scatter(x_val['OC'], x_val['HL'], c=y_val, cmap = 'cool_r') #clormap 에러 뜨게 하면 colormap 종류들 볼 수 있음\n",
        "plt.xlim(x_min, x_max)\n",
        "plt.ylim(y_min, y_max)\n",
        "\n",
        "plt.title('Features Distribution', fontsize = 15)\n",
        "plt.xlabel('Open-Close', fontsize = 15)\n",
        "plt.ylabel('High-Low', fontsize = 15)\n",
        "plt.grid()\n",
        "\n",
        "plt.show()"
      ],
      "execution_count": null,
      "outputs": [
        {
          "output_type": "display_data",
          "data": {
            "image/png": "[encoded data removed]",
            "text/plain": [
              "<Figure size 720x576 with 1 Axes>"
            ]
          },
          "metadata": {
            "tags": [],
            "needs_background": "light"
          }
        }
      ]
    },
    {
      "cell_type": "code",
      "metadata": {
        "id": "3jLICAecoxzb"
      },
      "source": [
        ""
      ],
      "execution_count": null,
      "outputs": []
    },
    {
      "cell_type": "markdown",
      "metadata": {
        "id": "jbR9q6xyg7iE"
      },
      "source": [
        "##1-4. Standardization"
      ]
    },
    {
      "cell_type": "markdown",
      "metadata": {
        "id": "7y0-dJ_hwv05"
      },
      "source": [
        "###1-4-1. 표준화(Standardization)\n",
        "\n",
        "- 평균 == 0, 표준편차 == 1\n"
      ]
    },
    {
      "cell_type": "code",
      "metadata": {
        "id": "MytW0n4Cw5kG"
      },
      "source": [
        "standardizer = StandardScaler()"
      ],
      "execution_count": null,
      "outputs": []
    },
    {
      "cell_type": "code",
      "metadata": {
        "colab": {
          "base_uri": "https://localhost:8080/"
        },
        "id": "ZnufnKAvym-U",
        "outputId": "cc34fa8c-32b1-4ef1-b99f-a75762dd13bf"
      },
      "source": [
        "standardizer"
      ],
      "execution_count": null,
      "outputs": [
        {
          "output_type": "execute_result",
          "data": {
            "text/plain": [
              "StandardScaler(copy=True, with_mean=True, with_std=True)"
            ]
          },
          "metadata": {
            "tags": []
          },
          "execution_count": 41
        }
      ]
    },
    {
      "cell_type": "markdown",
      "metadata": {
        "id": "dIqJkde3w0hH"
      },
      "source": [
        "### 1-4-2. 정규화(Normarlization)\n",
        "\n",
        "- 모든 데이터를 0~1로 범주화"
      ]
    },
    {
      "cell_type": "code",
      "metadata": {
        "colab": {
          "base_uri": "https://localhost:8080/"
        },
        "id": "iYW66N25yowJ",
        "outputId": "85c79f69-eebb-4751-db59-324b44c6382e"
      },
      "source": [
        "x_val_standardized = standardizer.fit_transform(x_val)\n",
        "x_val_standardized"
      ],
      "execution_count": null,
      "outputs": [
        {
          "output_type": "execute_result",
          "data": {
            "text/plain": [
              "array([[ 0.16381711, -0.66843675],\n",
              "       [-0.24468142, -0.60189324],\n",
              "       [-0.52954984, -0.29134559],\n",
              "       ...,\n",
              "       [ 0.48094221,  0.23658542],\n",
              "       [-0.42204807, -0.20705602],\n",
              "       [-0.29843436, -0.07395546]])"
            ]
          },
          "metadata": {
            "tags": []
          },
          "execution_count": 42
        }
      ]
    },
    {
      "cell_type": "code",
      "metadata": {
        "colab": {
          "base_uri": "https://localhost:8080/"
        },
        "id": "EZGOonmYyo2F",
        "outputId": "97c650c1-b33a-4502-b668-0f6860803c78"
      },
      "source": [
        "print(round(x_val_standardized.mean()))\n",
        "print(x_val_standardized.std())"
      ],
      "execution_count": null,
      "outputs": [
        {
          "output_type": "stream",
          "text": [
            "0\n",
            "1.0\n"
          ],
          "name": "stdout"
        }
      ]
    },
    {
      "cell_type": "markdown",
      "metadata": {
        "id": "KLIsnPS-hrS7"
      },
      "source": [
        "# 2. Split into Train&Test data\n"
      ]
    },
    {
      "cell_type": "code",
      "metadata": {
        "id": "3WNJ5hPMzpf_"
      },
      "source": [
        "# shuffle -> 디폴트값: True, but 여기선 시계열이므로 날짜 순서가 상관이 있기 때문에 섞으면 안됨\n",
        "\n",
        "x_train, x_test, y_train, y_test = train_test_split(\n",
        "    x_val_standardized, y_val,\n",
        "    test_size = 0.3, random_state = 42, shuffle = False\n",
        ")"
      ],
      "execution_count": null,
      "outputs": []
    },
    {
      "cell_type": "code",
      "metadata": {
        "id": "_ddk2Xs5zpng"
      },
      "source": [
        ""
      ],
      "execution_count": null,
      "outputs": []
    },
    {
      "cell_type": "markdown",
      "metadata": {
        "id": "HOP7AOpRhrQZ"
      },
      "source": [
        "# 3. Train Model Object"
      ]
    },
    {
      "cell_type": "markdown",
      "metadata": {
        "id": "ap2SIJqrhrOB"
      },
      "source": [
        "## 3-1. Training"
      ]
    },
    {
      "cell_type": "code",
      "metadata": {
        "colab": {
          "base_uri": "https://localhost:8080/"
        },
        "id": "h7sZ5q8N0hQy",
        "outputId": "2627e319-4405-4e80-ded3-ba2a67dd8f30"
      },
      "source": [
        "train_accuracy = []\n",
        "test_accuracy = []\n",
        "\n",
        "for n in tqdm(range(1, 15)) :\n",
        "\n",
        "  clf = KNeighborsClassifier(n_neighbors=n, n_jobs=-1)\n",
        "  clf.fit(x_train, y_train)\n",
        "  pred = clf.predict(x_test)\n",
        "\n",
        "#자기가 학습한 데이터에 대한 score를 쌓아나감\n",
        "  train_accuracy.append(clf.score(x_train, y_train))\n",
        "  test_accuracy.append((pred == y_test).mean())"
      ],
      "execution_count": null,
      "outputs": [
        {
          "output_type": "stream",
          "text": [
            "100%|██████████| 14/14 [00:03<00:00,  3.51it/s]\n"
          ],
          "name": "stderr"
        }
      ]
    },
    {
      "cell_type": "code",
      "metadata": {
        "colab": {
          "base_uri": "https://localhost:8080/",
          "height": 498
        },
        "id": "Qgd_aDEm1tMt",
        "outputId": "6aa32600-933e-40ed-ab05-644943597ea6"
      },
      "source": [
        "plt.figure(figsize=(10,8))\n",
        "\n",
        "plt.plot(range(1, 15), train_accuracy, label = 'Train')\n",
        "plt.plot(range(1, 15), test_accuracy, label = 'Test')\n",
        "\n",
        "plt.xlabel('n_neighbors')\n",
        "plt.ylabel('Accuracy')\n",
        "plt.xticks(range(0, 15))\n",
        "\n",
        "plt.legend()\n",
        "plt.grid()\n",
        "plt.show()\n",
        "\n",
        "# train 데이터 셋은 이웃의 수가 높아질 수록 accuracy가 떨어지고 있음\n",
        "# test 데이터 셋의 accuracy는 3과 7에서 높은것으로 보임"
      ],
      "execution_count": null,
      "outputs": [
        {
          "output_type": "display_data",
          "data": {
            "image/png": "[encoded data removed]",
            "text/plain": [
              "<Figure size 720x576 with 1 Axes>"
            ]
          },
          "metadata": {
            "tags": [],
            "needs_background": "light"
          }
        }
      ]
    },
    {
      "cell_type": "markdown",
      "metadata": {
        "id": "T9SoEqa4hrLp"
      },
      "source": [
        "## 3-2. Model Performance"
      ]
    },
    {
      "cell_type": "code",
      "metadata": {
        "colab": {
          "base_uri": "https://localhost:8080/"
        },
        "id": "OR2Uo2Rn1ZyF",
        "outputId": "725ae1c5-2416-4a45-c89c-b350cdfd9925"
      },
      "source": [
        "# n_neighbors값 조정하면서 test 데이터 셋 accuracy 가장 높은 지점 찾기\n",
        "\n",
        "clf = KNeighborsClassifier(n_jobs = -1, n_neighbors=3)\n",
        "clf.fit(x_train, y_train)\n",
        "print(accuracy_score(y_test, clf.predict(x_test)))\n",
        "\n",
        "# 과거의 통계로 봤을 때 54% 정도면 준수한 수준의 score임"
      ],
      "execution_count": null,
      "outputs": [
        {
          "output_type": "stream",
          "text": [
            "0.5214384508990318\n"
          ],
          "name": "stdout"
        }
      ]
    }
  ]
}