{
  "nbformat": 4,
  "nbformat_minor": 0,
  "metadata": {
    "colab": {
      "name": "NCAV.ipynb",
      "provenance": [],
      "authorship_tag": "ABX9TyPmpDcTem8mhP3pr2RWiF0r",
      "include_colab_link": true
    },
    "kernelspec": {
      "name": "python3",
      "display_name": "Python 3"
    },
    "language_info": {
      "name": "python"
    }
  },
  "cells": [
    {
      "cell_type": "markdown",
      "metadata": {
        "id": "view-in-github",
        "colab_type": "text"
      },
      "source": [
        "<a href=\"https://colab.research.google.com/github/sjsjlee/study_financial_data_analysis/blob/main/NCAV.ipynb\" target=\"_parent\"><img src=\"https://colab.research.google.com/assets/colab-badge.svg\" alt=\"Open In Colab\"/></a>"
      ]
    },
    {
      "cell_type": "markdown",
      "metadata": {
        "id": "8RbdKMz6Q8Eq"
      },
      "source": [
        "#NCAV(Net Current Asset Value)#\n"
      ]
    },
    {
      "cell_type": "markdown",
      "metadata": {
        "id": "e6Cu6EIaRIAY"
      },
      "source": [
        "1.레벨 : 초급\n",
        "\n",
        "2.스타일 : 밸류\n",
        "\n",
        "3.기대CAGR : 20%이상\n",
        "\n",
        "4.종목개수 : 20~30개\n",
        "\n",
        "5.매수전략 : 유동자산-총부채>시가총액*1.5, 세후이익>0\n",
        "\n",
        "|레벨|스타일|기대CAGR|종목개수|매수전략\n",
        "|----|------|--------|--------|-------------------------------------|\n",
        "|초급|밸류|20%이상|20~30개|유동자산-총부채>시가총액*1.5, 세후이익 >0\n"
      ]
    },
    {
      "cell_type": "markdown",
      "metadata": {
        "id": "uoxO6cI7TL4f"
      },
      "source": [
        "#Basic Setting#\n"
      ]
    },
    {
      "cell_type": "code",
      "metadata": {
        "id": "ZmapjcdgOsiY"
      },
      "source": [
        "import pandas as pd\n",
        "from tqdm import tqdm #상태진행률\n",
        "from bs4 import BeautifulSoup #사이트 정보 추출\n",
        "import urllib.request #url_library 안에 있는 request 가져옴(url 열기 위한 확장가능 라이브러리)\n",
        "#!pip install bs4(설치 안되면 작성)\n",
        "#!pip install urllib"
      ],
      "execution_count": null,
      "outputs": []
    },
    {
      "cell_type": "code",
      "metadata": {
        "id": "iOrILolBQ9cx"
      },
      "source": [
        "SNAP_URL = 'https://comp.fnguide.com/SVO2/ASP/SVD_Main.asp?pGB=1&gicode=A%s&cID=&MenuYn=Y&ReportGB=&NewMenuID=101&stkGb=701'\n",
        "FS_URL = 'https://comp.fnguide.com/SVO2/ASP/SVD_Finance.asp?pGB=1&gicode=A%s&cID=&MenuYn=Y&ReportGB=&NewMenuID=103&stkGb=701'\n",
        "\n",
        "sample_code = '035720' #카카오"
      ],
      "execution_count": null,
      "outputs": []
    },
    {
      "cell_type": "code",
      "metadata": {
        "id": "JXmez_L9Q9fF"
      },
      "source": [
        "fs = urllib.request.urlopen(FS_URL % sample_code).read() #urllibrary의 request(객체, 클래스)사용, urlopen 함수 사용해 FS_URL 불러옴, 마지막으로 read()함수로 url 안에 담긴 내용 불러옴\n",
        "fs_soup = BeautifulSoup(fs, 'html.parser') #fs를 html.parser 사용해 변환(압축 해제)\n",
        "\n",
        "snap = urllib.request.urlopen(SNAP_URL % sample_code).read()\n",
        "snap_soup = BeautifulSoup(snap, 'html.parser')\n",
        "\n",
        "#HTML Parser란 HTML 문법규칙을 기초로 웹페이지의 내용을 해석하고, 의미와 구조를 분석하는 프로그램입니다."
      ],
      "execution_count": null,
      "outputs": []
    },
    {
      "cell_type": "code",
      "metadata": {
        "colab": {
          "base_uri": "https://localhost:8080/"
        },
        "id": "KZI3Wf0mQ9hX",
        "outputId": "ec983587-35e5-436a-ab9e-c09e725a7cf9"
      },
      "source": [
        "print(FS_URL % sample_code)"
      ],
      "execution_count": null,
      "outputs": [
        {
          "output_type": "stream",
          "text": [
            "https://comp.fnguide.com/SVO2/ASP/SVD_Finance.asp?pGB=1&gicode=A035720&cID=&MenuYn=Y&ReportGB=&NewMenuID=103&stkGb=701\n"
          ],
          "name": "stdout"
        }
      ]
    },
    {
      "cell_type": "markdown",
      "metadata": {
        "id": "IR8JvAUPZ9Vy"
      },
      "source": [
        "#Market Value(시가총액)#\n"
      ]
    },
    {
      "cell_type": "markdown",
      "metadata": {
        "id": "jpj_iD1Pbvaa"
      },
      "source": [
        "*html 태그\n",
        "- 클래스로 묶여있음\n",
        "- id는 하나\n",
        "\n",
        "여기서 시가총액은 div 클래스 > td 클래스 이런식으로 묶여있음"
      ]
    },
    {
      "cell_type": "code",
      "metadata": {
        "colab": {
          "base_uri": "https://localhost:8080/"
        },
        "id": "U2WpBbm_Z8BS",
        "outputId": "9a482d76-8253-42b7-c64b-978118c50b2d"
      },
      "source": [
        "mv_cells = snap_soup.find('div', {'id' : 'svdMainGrid1'}).find_all('td',{'class' : 'r'})\n",
        "#find( , {})사용해 div 태그 중에서 id가 'svd~'인 태그를 찾음, find_all( , {}) 사용해 td 클래스 = r 인 것 찾아줌\n",
        "market_value = float(mv_cells[8].string.replace(',', '')) #8번째 인덱스에서, 699,189만 뽑아내려면 string 사용함\n",
        "#에러 뜨기 때문에 콤마 삭제해줘야함, 파이썬 replace 함수 사용\n",
        "market_value"
      ],
      "execution_count": null,
      "outputs": [
        {
          "output_type": "execute_result",
          "data": {
            "text/plain": [
              "699189.0"
            ]
          },
          "metadata": {
            "tags": []
          },
          "execution_count": 35
        }
      ]
    },
    {
      "cell_type": "markdown",
      "metadata": {
        "id": "hE2vx56tQ9js"
      },
      "source": [
        "#Current Asset(유동자산)#"
      ]
    },
    {
      "cell_type": "code",
      "metadata": {
        "colab": {
          "base_uri": "https://localhost:8080/"
        },
        "id": "UKFpIU8iQ9lj",
        "outputId": "70b81915-b7fe-4a07-fd88-1947a6272c62"
      },
      "source": [
        "ca_cells = fs_soup.find('div', {'id' : 'divDaechaY'}).find_all('td', {'class' : 'r cle'})\n",
        "current_asset = float(ca_cells[1].string.replace(',', ''))\n",
        "current_asset"
      ],
      "execution_count": null,
      "outputs": [
        {
          "output_type": "execute_result",
          "data": {
            "text/plain": [
              "52079.0"
            ]
          },
          "metadata": {
            "tags": []
          },
          "execution_count": 44
        }
      ]
    },
    {
      "cell_type": "markdown",
      "metadata": {
        "id": "w06nMNqKQ9nq"
      },
      "source": [
        "#Total Debt(총부채)#"
      ]
    },
    {
      "cell_type": "code",
      "metadata": {
        "colab": {
          "base_uri": "https://localhost:8080/"
        },
        "id": "XalV0_QHQ9p0",
        "outputId": "3d21915b-30d3-4048-d080-e2f1b64fb28a"
      },
      "source": [
        "\n",
        "debt_cells = fs_soup.find('div', {'id' : 'divDaechaY'}).find_all('tr', {'class' : 'rwf rowBold'})\n",
        "\n",
        "#html 크롤링 방식으로 debt 찾기\n",
        "\n",
        "total_debt =float(debt_cells[1].find('td', {'class' : 'r cle'}).string.replace(',', '')) #부채는 1번째 인덱스(덩어리째로 1번째)\n",
        "total_debt"
      ],
      "execution_count": null,
      "outputs": [
        {
          "output_type": "execute_result",
          "data": {
            "text/plain": [
              "56369.0"
            ]
          },
          "metadata": {
            "tags": []
          },
          "execution_count": 92
        }
      ]
    },
    {
      "cell_type": "code",
      "metadata": {
        "colab": {
          "base_uri": "https://localhost:8080/"
        },
        "id": "8xXRoF4nQ9r5",
        "outputId": "770ecf06-99fb-4e3c-d38f-c4e37090c9fc"
      },
      "source": [
        "#파이썬 방식으로 debt 찾기\n",
        "debt_list = []\n",
        "debt_cells[1]\n",
        "\n",
        "for debt in debt_cells[1] :\n",
        "  if debt != '\\n' : #띄어쓰기 된 부분 없는 리스트 생성\n",
        "    debt_list.append(debt.string)\n",
        "debt_list\n",
        "\n",
        "total_debt = float(debt_list[-1].string.replace(',','')) #-1은 마지막 인덱스\n",
        "total_debt"
      ],
      "execution_count": null,
      "outputs": [
        {
          "output_type": "execute_result",
          "data": {
            "text/plain": [
              "56369.0"
            ]
          },
          "metadata": {
            "tags": []
          },
          "execution_count": 71
        }
      ]
    },
    {
      "cell_type": "markdown",
      "metadata": {
        "id": "zq98N5_zrHlC"
      },
      "source": [
        "#Net Income(세후이익)#"
      ]
    },
    {
      "cell_type": "code",
      "metadata": {
        "colab": {
          "base_uri": "https://localhost:8080/",
          "height": 203
        },
        "id": "XnJGcl47oJw-",
        "outputId": "d77bc42b-40d4-4d25-8453-4aa38ecc8fa4"
      },
      "source": [
        "income_cells = fs_soup.find('div', {'id' : 'divSonikY'}).find_all('tr',{'class' :'rwf rowBold'})\n",
        "net_income = float(income_cells[-1].find_all('td', {'class' : 'r'})[-3].string.replace(',','')) #find : 하나만 찾아줌, find_all : 모두 찾아줌\n",
        "net_income"
      ],
      "execution_count": null,
      "outputs": [
        {
          "output_type": "error",
          "ename": "NameError",
          "evalue": "ignored",
          "traceback": [
            "\u001b[0;31m---------------------------------------------------------------------------\u001b[0m",
            "\u001b[0;31mNameError\u001b[0m                                 Traceback (most recent call last)",
            "\u001b[0;32m<ipython-input-1-e9f4bab865ff>\u001b[0m in \u001b[0;36m<module>\u001b[0;34m()\u001b[0m\n\u001b[0;32m----> 1\u001b[0;31m \u001b[0mincome_cells\u001b[0m \u001b[0;34m=\u001b[0m \u001b[0mfs_soup\u001b[0m\u001b[0;34m.\u001b[0m\u001b[0mfind\u001b[0m\u001b[0;34m(\u001b[0m\u001b[0;34m'div'\u001b[0m\u001b[0;34m,\u001b[0m \u001b[0;34m{\u001b[0m\u001b[0;34m'id'\u001b[0m \u001b[0;34m:\u001b[0m \u001b[0;34m'divSonikY'\u001b[0m\u001b[0;34m}\u001b[0m\u001b[0;34m)\u001b[0m\u001b[0;34m.\u001b[0m\u001b[0mfind_all\u001b[0m\u001b[0;34m(\u001b[0m\u001b[0;34m'tr'\u001b[0m\u001b[0;34m,\u001b[0m\u001b[0;34m{\u001b[0m\u001b[0;34m'class'\u001b[0m \u001b[0;34m:\u001b[0m\u001b[0;34m'rwf rowBold'\u001b[0m\u001b[0;34m}\u001b[0m\u001b[0;34m)\u001b[0m\u001b[0;34m\u001b[0m\u001b[0;34m\u001b[0m\u001b[0m\n\u001b[0m\u001b[1;32m      2\u001b[0m \u001b[0mnet_income\u001b[0m \u001b[0;34m=\u001b[0m \u001b[0mfloat\u001b[0m\u001b[0;34m(\u001b[0m\u001b[0mincome_cells\u001b[0m\u001b[0;34m[\u001b[0m\u001b[0;34m-\u001b[0m\u001b[0;36m1\u001b[0m\u001b[0;34m]\u001b[0m\u001b[0;34m.\u001b[0m\u001b[0mfind_all\u001b[0m\u001b[0;34m(\u001b[0m\u001b[0;34m'td'\u001b[0m\u001b[0;34m,\u001b[0m \u001b[0;34m{\u001b[0m\u001b[0;34m'class'\u001b[0m \u001b[0;34m:\u001b[0m \u001b[0;34m'r'\u001b[0m\u001b[0;34m}\u001b[0m\u001b[0;34m)\u001b[0m\u001b[0;34m[\u001b[0m\u001b[0;34m-\u001b[0m\u001b[0;36m3\u001b[0m\u001b[0;34m]\u001b[0m\u001b[0;34m.\u001b[0m\u001b[0mstring\u001b[0m\u001b[0;34m.\u001b[0m\u001b[0mreplace\u001b[0m\u001b[0;34m(\u001b[0m\u001b[0;34m','\u001b[0m\u001b[0;34m,\u001b[0m\u001b[0;34m''\u001b[0m\u001b[0;34m)\u001b[0m\u001b[0;34m)\u001b[0m \u001b[0;31m#find : 하나만 찾아줌, find_all : 모두 찾아줌\u001b[0m\u001b[0;34m\u001b[0m\u001b[0;34m\u001b[0m\u001b[0m\n\u001b[1;32m      3\u001b[0m \u001b[0mnet_income\u001b[0m\u001b[0;34m\u001b[0m\u001b[0;34m\u001b[0m\u001b[0m\n",
            "\u001b[0;31mNameError\u001b[0m: name 'fs_soup' is not defined"
          ]
        }
      ]
    },
    {
      "cell_type": "markdown",
      "metadata": {
        "id": "yrLouRiaQ9t_"
      },
      "source": [
        "#Get All Stock Code#"
      ]
    },
    {
      "cell_type": "code",
      "metadata": {
        "colab": {
          "base_uri": "https://localhost:8080/",
          "height": 337
        },
        "id": "SOsdXdRMQ9wh",
        "outputId": "bcb4b892-377b-4b3a-9325-d473e95e32b7"
      },
      "source": [
        "from google.colab import drive\n",
        "drive.mount('/content/drive')\n",
        "\n",
        "import pandas as pd\n",
        "\n",
        "csv_url = '/content/drive/MyDrive/QUANT/company.csv'\n",
        "\n",
        "company = pd.read_csv(csv_url, encoding='utf-8')\n",
        "\n",
        "print(company.shape)\n",
        "company.head()"
      ],
      "execution_count": null,
      "outputs": [
        {
          "output_type": "stream",
          "text": [
            "Mounted at /content/drive\n",
            "(2022, 11)\n"
          ],
          "name": "stdout"
        },
        {
          "output_type": "execute_result",
          "data": {
            "text/html": [
              "<div>\n",
              "<style scoped>\n",
              "    .dataframe tbody tr th:only-of-type {\n",
              "        vertical-align: middle;\n",
              "    }\n",
              "\n",
              "    .dataframe tbody tr th {\n",
              "        vertical-align: top;\n",
              "    }\n",
              "\n",
              "    .dataframe thead th {\n",
              "        text-align: right;\n",
              "    }\n",
              "</style>\n",
              "<table border=\"1\" class=\"dataframe\">\n",
              "  <thead>\n",
              "    <tr style=\"text-align: right;\">\n",
              "      <th></th>\n",
              "      <th>분류</th>\n",
              "      <th>회사명</th>\n",
              "      <th>종목코드</th>\n",
              "      <th>업종</th>\n",
              "      <th>주요제품</th>\n",
              "      <th>상장일</th>\n",
              "      <th>결산월</th>\n",
              "      <th>대표자명</th>\n",
              "      <th>홈페이지</th>\n",
              "      <th>지역</th>\n",
              "      <th>구글코드</th>\n",
              "    </tr>\n",
              "  </thead>\n",
              "  <tbody>\n",
              "    <tr>\n",
              "      <th>0</th>\n",
              "      <td>코스피</td>\n",
              "      <td>두산우</td>\n",
              "      <td>000155</td>\n",
              "      <td>회사 본부 및 경영 컨설팅 서비스업</td>\n",
              "      <td>청주,소주,인쇄회로기판(인쇄회로용동박적층판),관련전자부품,기계 제조,판매/출판사업,...</td>\n",
              "      <td>1973-06-29</td>\n",
              "      <td>12월</td>\n",
              "      <td>박정원, 이재경</td>\n",
              "      <td>http://www.doosancorp.co.kr</td>\n",
              "      <td>서울특별시</td>\n",
              "      <td>KRX:000155</td>\n",
              "    </tr>\n",
              "    <tr>\n",
              "      <th>1</th>\n",
              "      <td>코스피</td>\n",
              "      <td>한화3우B</td>\n",
              "      <td>00088K</td>\n",
              "      <td>기타 화학제품 제조업</td>\n",
              "      <td>화약,화공품,자동선반류,공작기계 제조,전자교환기,건설,정보통신,종합무역/임직원 및 ...</td>\n",
              "      <td>1976-06-24</td>\n",
              "      <td>12월</td>\n",
              "      <td>최양수, 이태종, 김연철, 이민석</td>\n",
              "      <td>http://www.hanwhacorp.co.kr</td>\n",
              "      <td>서울특별시</td>\n",
              "      <td>KRX:00088K</td>\n",
              "    </tr>\n",
              "    <tr>\n",
              "      <th>2</th>\n",
              "      <td>코스피</td>\n",
              "      <td>S-Oil우</td>\n",
              "      <td>010955</td>\n",
              "      <td>석유 정제품 제조업</td>\n",
              "      <td>석유제품,가스,윤활기유,윤활유,그리스,석유화학제품 제조,도매</td>\n",
              "      <td>1987-05-27</td>\n",
              "      <td>12월</td>\n",
              "      <td>Othman Al-Ghamdi</td>\n",
              "      <td>http://www.s-oil.com</td>\n",
              "      <td>서울특별시</td>\n",
              "      <td>KRX:010955</td>\n",
              "    </tr>\n",
              "    <tr>\n",
              "      <th>3</th>\n",
              "      <td>코스피</td>\n",
              "      <td>LG화학우</td>\n",
              "      <td>051915</td>\n",
              "      <td>기초 화학물질 제조업</td>\n",
              "      <td>유화/기능/합성수지,재생섬유소,산업재,리튬이온전지,평광판,PVC 제조,도매</td>\n",
              "      <td>2001-04-25</td>\n",
              "      <td>12월</td>\n",
              "      <td>박진수</td>\n",
              "      <td>http://www.lgchem.com</td>\n",
              "      <td>서울특별시</td>\n",
              "      <td>KRX:051915</td>\n",
              "    </tr>\n",
              "    <tr>\n",
              "      <th>4</th>\n",
              "      <td>코스피</td>\n",
              "      <td>한국금융지주우</td>\n",
              "      <td>071055</td>\n",
              "      <td>기타 금융업</td>\n",
              "      <td>금융지주회사</td>\n",
              "      <td>2003-07-21</td>\n",
              "      <td>12월</td>\n",
              "      <td>김남구</td>\n",
              "      <td>http://www.koreaholdings.com</td>\n",
              "      <td>서울특별시</td>\n",
              "      <td>KRX:071055</td>\n",
              "    </tr>\n",
              "  </tbody>\n",
              "</table>\n",
              "</div>"
            ],
            "text/plain": [
              "    분류      회사명    종목코드  ...                          홈페이지     지역        구글코드\n",
              "0  코스피      두산우  000155  ...   http://www.doosancorp.co.kr  서울특별시  KRX:000155\n",
              "1  코스피    한화3우B  00088K  ...   http://www.hanwhacorp.co.kr  서울특별시  KRX:00088K\n",
              "2  코스피   S-Oil우  010955  ...          http://www.s-oil.com  서울특별시  KRX:010955\n",
              "3  코스피    LG화학우  051915  ...         http://www.lgchem.com  서울특별시  KRX:051915\n",
              "4  코스피  한국금융지주우  071055  ...  http://www.koreaholdings.com  서울특별시  KRX:071055\n",
              "\n",
              "[5 rows x 11 columns]"
            ]
          },
          "metadata": {
            "tags": []
          },
          "execution_count": 103
        }
      ]
    },
    {
      "cell_type": "code",
      "metadata": {
        "colab": {
          "base_uri": "https://localhost:8080/",
          "height": 79
        },
        "id": "3bOxW8H4wUN_",
        "outputId": "841aa21b-24e4-4d5c-d45d-a2655007e9b2"
      },
      "source": [
        "company[company['회사명']=='카카오']"
      ],
      "execution_count": null,
      "outputs": [
        {
          "output_type": "execute_result",
          "data": {
            "text/html": [
              "<div>\n",
              "<style scoped>\n",
              "    .dataframe tbody tr th:only-of-type {\n",
              "        vertical-align: middle;\n",
              "    }\n",
              "\n",
              "    .dataframe tbody tr th {\n",
              "        vertical-align: top;\n",
              "    }\n",
              "\n",
              "    .dataframe thead th {\n",
              "        text-align: right;\n",
              "    }\n",
              "</style>\n",
              "<table border=\"1\" class=\"dataframe\">\n",
              "  <thead>\n",
              "    <tr style=\"text-align: right;\">\n",
              "      <th></th>\n",
              "      <th>분류</th>\n",
              "      <th>회사명</th>\n",
              "      <th>종목코드</th>\n",
              "      <th>업종</th>\n",
              "      <th>주요제품</th>\n",
              "      <th>상장일</th>\n",
              "      <th>결산월</th>\n",
              "      <th>대표자명</th>\n",
              "      <th>홈페이지</th>\n",
              "      <th>지역</th>\n",
              "      <th>구글코드</th>\n",
              "    </tr>\n",
              "  </thead>\n",
              "  <tbody>\n",
              "    <tr>\n",
              "      <th>16</th>\n",
              "      <td>코스피</td>\n",
              "      <td>카카오</td>\n",
              "      <td>035720</td>\n",
              "      <td>자료처리, 호스팅, 포털 및 기타 인터넷 정보매개 서비스업</td>\n",
              "      <td>인터넷 서비스(인터넷 광고)</td>\n",
              "      <td>2017-07-10</td>\n",
              "      <td>12월</td>\n",
              "      <td>임지훈</td>\n",
              "      <td>http://www.kakaocorp.com</td>\n",
              "      <td>제주특별자치도</td>\n",
              "      <td>KRX:035720</td>\n",
              "    </tr>\n",
              "  </tbody>\n",
              "</table>\n",
              "</div>"
            ],
            "text/plain": [
              "     분류  회사명    종목코드  ...                      홈페이지       지역        구글코드\n",
              "16  코스피  카카오  035720  ...  http://www.kakaocorp.com  제주특별자치도  KRX:035720\n",
              "\n",
              "[1 rows x 11 columns]"
            ]
          },
          "metadata": {
            "tags": []
          },
          "execution_count": 104
        }
      ]
    },
    {
      "cell_type": "code",
      "metadata": {
        "colab": {
          "base_uri": "https://localhost:8080/"
        },
        "id": "Tz56VHB4Q9yT",
        "outputId": "29d86b09-3933-4bfd-839c-9d4cbc8e54d7"
      },
      "source": [
        "code_list = company['종목코드']\n",
        "code_list"
      ],
      "execution_count": null,
      "outputs": [
        {
          "output_type": "execute_result",
          "data": {
            "text/plain": [
              "0       000155\n",
              "1       00088K\n",
              "2       010955\n",
              "3       051915\n",
              "4       071055\n",
              "         ...  \n",
              "2017    013030\n",
              "2018    019550\n",
              "2019    019590\n",
              "2020    019570\n",
              "2021    006920\n",
              "Name: 종목코드, Length: 2022, dtype: object"
            ]
          },
          "metadata": {
            "tags": []
          },
          "execution_count": 107
        }
      ]
    },
    {
      "cell_type": "code",
      "metadata": {
        "colab": {
          "base_uri": "https://localhost:8080/"
        },
        "id": "HJmRbpDnQ90e",
        "outputId": "3c9b9159-e223-4498-ec03-4833f6fb87b0"
      },
      "source": [
        "sample_code_list = code_list[1000:1050]\n",
        "sample_code_list"
      ],
      "execution_count": null,
      "outputs": [
        {
          "output_type": "execute_result",
          "data": {
            "text/plain": [
              "1000    207930\n",
              "1001    214270\n",
              "1002    189690\n",
              "1003    213420\n",
              "1004    206660\n",
              "1005    060480\n",
              "1006    206640\n",
              "1007    208640\n",
              "1008    193250\n",
              "1009    204630\n",
              "1010    200470\n",
              "1011    200670\n",
              "1012    208710\n",
              "1013    189860\n",
              "1014    067390\n",
              "1015    080580\n",
              "1016    208350\n",
              "1017    160550\n",
              "1018    124500\n",
              "1019    142280\n",
              "1020    187220\n",
              "1021    208370\n",
              "1022    207720\n",
              "1023    208140\n",
              "1024    149980\n",
              "1025    084650\n",
              "1026    200710\n",
              "1027    200780\n",
              "1028    207760\n",
              "1029    196170\n",
              "1030    206400\n",
              "1031    178920\n",
              "1032    140520\n",
              "1033    173940\n",
              "1034    205470\n",
              "1035    200230\n",
              "1036    194510\n",
              "1037    204840\n",
              "1038    196490\n",
              "1039    204620\n",
              "1040    205500\n",
              "1041    205100\n",
              "1042    191420\n",
              "1043    192440\n",
              "1044    182690\n",
              "1045    143540\n",
              "1046    203650\n",
              "1047    041920\n",
              "1048    194480\n",
              "1049    203690\n",
              "Name: 종목코드, dtype: object"
            ]
          },
          "metadata": {
            "tags": []
          },
          "execution_count": 109
        }
      ]
    },
    {
      "cell_type": "code",
      "metadata": {
        "colab": {
          "base_uri": "https://localhost:8080/",
          "height": 34
        },
        "id": "vFcBf0rN1FQy",
        "outputId": "178681df-4a1f-460b-ca27-a681e8ed1f1d"
      },
      "source": [
        "company['종목코드'] == '035720'#불리안형으로 나옴\n",
        "company[company['종목코드'] == '035720'] #True 값만 나옴\n",
        "company[company['종목코드'] == '035720'] #array 나옴\n",
        "company[company['종목코드'] == '035720']['회사명'].values[0] #회사명만 뽑아옴"
      ],
      "execution_count": null,
      "outputs": [
        {
          "output_type": "execute_result",
          "data": {
            "application/vnd.google.colaboratory.intrinsic+json": {
              "type": "string"
            },
            "text/plain": [
              "'카카오'"
            ]
          },
          "metadata": {
            "tags": []
          },
          "execution_count": 119
        }
      ]
    },
    {
      "cell_type": "code",
      "metadata": {
        "colab": {
          "base_uri": "https://localhost:8080/"
        },
        "id": "xAuhAgMn1FPL",
        "outputId": "e80cb968-0b52-4443-d270-37b06e499233"
      },
      "source": [
        "sample_dict = {}\n",
        "\n",
        "sample_dict['카카오'] = [1,2,3,4]\n",
        "\n",
        "sample_dict"
      ],
      "execution_count": null,
      "outputs": [
        {
          "output_type": "execute_result",
          "data": {
            "text/plain": [
              "{'카카오': [1, 2, 3, 4]}"
            ]
          },
          "metadata": {
            "tags": []
          },
          "execution_count": 117
        }
      ]
    },
    {
      "cell_type": "code",
      "metadata": {
        "id": "jmFra8-KQ92r"
      },
      "source": [
        "def crawler(li) :\n",
        "  #url 세팅\n",
        "  result = {}\n",
        "  SNAP_URL = 'https://comp.fnguide.com/SVO2/ASP/SVD_Main.asp?pGB=1&gicode=A%s&cID=&MenuYn=Y&ReportGB=&NewMenuID=101&stkGb=701'\n",
        "  FS_URL = 'https://comp.fnguide.com/SVO2/ASP/SVD_Finance.asp?pGB=1&gicode=A%s&cID=&MenuYn=Y&ReportGB=&NewMenuID=103&stkGb=701'\n",
        "\n",
        "  #for 반복문 시작\n",
        "  for code in tqdm(li) :\n",
        "    try :\n",
        "      #for 반복문 안에서 돌리기 위해 위에서 다시 가져옴\n",
        "      fs = urllib.request.urlopen(FS_URL % code).read() \n",
        "      fs_soup = BeautifulSoup(fs, 'html.parser') \n",
        "\n",
        "      snap = urllib.request.urlopen(SNAP_URL % code).read()\n",
        "      snap_soup = BeautifulSoup(snap, 'html.parser')\n",
        "\n",
        "      #Get company name\n",
        "      name = company[company['종목코드'] == code]['회사명'].values[0]\n",
        "\n",
        "      #Get Market Value\n",
        "      mv_cells = snap_soup.find('div', {'id' : 'svdMainGrid1'}).find_all('td',{'class' : 'r'})\n",
        "      market_value = float(mv_cells[8].string.replace(',', ''))\n",
        "\n",
        "      #Get Current Asset\n",
        "      ca_cells = fs_soup.find('div', {'id' : 'divDaechaY'}).find_all('td', {'class' : 'r cle'})\n",
        "      current_asset = float(ca_cells[1].string.replace(',', ''))\n",
        "\n",
        "      #Get total debt\n",
        "      debt_cells = fs_soup.find('div', {'id' : 'divDaechaY'}).find_all('tr', {'class' : 'rwf rowBold'})\n",
        "      total_debt =float(debt_cells[1].find('td', {'class' : 'r cle'}).string.replace(',', '')) \n",
        "\n",
        "      #Get net income\n",
        "      income_cells = fs_soup.find('div', {'id' : 'divSonikY'}).find_all('tr',{'class' :'rwf rowBold'})\n",
        "      net_income = float(income_cells[-1].find_all('td', {'class' : 'r'})[-3].string.replace(',','')) \n",
        "\n",
        "      #insert into result dict\n",
        "      result[name] = [code, market_value, current_asset, total_debt, net_income]\n",
        "\n",
        "    except (ValueError, AttributeError, IndexError, TypeError,) :\n",
        "      pass\n",
        "\n",
        "  # convert dict into DataFrame\n",
        "  result_df = pd.DataFrame(result)\n",
        "\n",
        "  #transposing DataFrame\n",
        "  result_df = result_df.transpose()\n",
        "\n",
        "  #Set Column Names\n",
        "  result_df.columns = ['Code', 'Market_Value', 'Current_Asset', 'Total_Debt', 'Net_Income']\n",
        "\n",
        "  return result_df\n"
      ],
      "execution_count": null,
      "outputs": []
    },
    {
      "cell_type": "code",
      "metadata": {
        "colab": {
          "base_uri": "https://localhost:8080/",
          "height": 1000
        },
        "id": "HhL_l86_3k5q",
        "outputId": "4a4f86af-a7bd-4584-a38d-e9bb2df721d5"
      },
      "source": [
        "result_df = crawler(sample_code_list)\n",
        "result_df"
      ],
      "execution_count": null,
      "outputs": [
        {
          "output_type": "stream",
          "text": [
            "100%|██████████| 50/50 [02:50<00:00,  3.41s/it]\n"
          ],
          "name": "stderr"
        },
        {
          "output_type": "execute_result",
          "data": {
            "text/html": [
              "<div>\n",
              "<style scoped>\n",
              "    .dataframe tbody tr th:only-of-type {\n",
              "        vertical-align: middle;\n",
              "    }\n",
              "\n",
              "    .dataframe tbody tr th {\n",
              "        vertical-align: top;\n",
              "    }\n",
              "\n",
              "    .dataframe thead th {\n",
              "        text-align: right;\n",
              "    }\n",
              "</style>\n",
              "<table border=\"1\" class=\"dataframe\">\n",
              "  <thead>\n",
              "    <tr style=\"text-align: right;\">\n",
              "      <th></th>\n",
              "      <th>Code</th>\n",
              "      <th>Market_Value</th>\n",
              "      <th>Current_Asset</th>\n",
              "      <th>Total_Debt</th>\n",
              "      <th>Net_Income</th>\n",
              "    </tr>\n",
              "  </thead>\n",
              "  <tbody>\n",
              "    <tr>\n",
              "      <th>퓨쳐스트림네트웍스</th>\n",
              "      <td>214270</td>\n",
              "      <td>1619</td>\n",
              "      <td>1144</td>\n",
              "      <td>1234</td>\n",
              "      <td>-4</td>\n",
              "    </tr>\n",
              "    <tr>\n",
              "      <th>포시에스</th>\n",
              "      <td>189690</td>\n",
              "      <td>761</td>\n",
              "      <td>194</td>\n",
              "      <td>18</td>\n",
              "      <td>25</td>\n",
              "    </tr>\n",
              "    <tr>\n",
              "      <th>덕산네오룩스</th>\n",
              "      <td>213420</td>\n",
              "      <td>13518</td>\n",
              "      <td>1017</td>\n",
              "      <td>283</td>\n",
              "      <td>123</td>\n",
              "    </tr>\n",
              "    <tr>\n",
              "      <th>국일신동</th>\n",
              "      <td>060480</td>\n",
              "      <td>599</td>\n",
              "      <td>192</td>\n",
              "      <td>52</td>\n",
              "      <td>4</td>\n",
              "    </tr>\n",
              "    <tr>\n",
              "      <th>바디텍메드</th>\n",
              "      <td>206640</td>\n",
              "      <td>5273</td>\n",
              "      <td>1250</td>\n",
              "      <td>355</td>\n",
              "      <td>123</td>\n",
              "    </tr>\n",
              "    <tr>\n",
              "      <th>썸에이지</th>\n",
              "      <td>208640</td>\n",
              "      <td>4391</td>\n",
              "      <td>347</td>\n",
              "      <td>31</td>\n",
              "      <td>140</td>\n",
              "    </tr>\n",
              "    <tr>\n",
              "      <th>와이제이엠게임즈</th>\n",
              "      <td>193250</td>\n",
              "      <td>1427</td>\n",
              "      <td>285</td>\n",
              "      <td>174</td>\n",
              "      <td>-13</td>\n",
              "    </tr>\n",
              "    <tr>\n",
              "      <th>화이브라더스코리아</th>\n",
              "      <td>204630</td>\n",
              "      <td>997</td>\n",
              "      <td>628</td>\n",
              "      <td>1040</td>\n",
              "      <td>-92</td>\n",
              "    </tr>\n",
              "    <tr>\n",
              "      <th>하이셈</th>\n",
              "      <td>200470</td>\n",
              "      <td>1260</td>\n",
              "      <td>198</td>\n",
              "      <td>592</td>\n",
              "      <td>-2</td>\n",
              "    </tr>\n",
              "    <tr>\n",
              "      <th>휴메딕스</th>\n",
              "      <td>200670</td>\n",
              "      <td>3595</td>\n",
              "      <td>894</td>\n",
              "      <td>452</td>\n",
              "      <td>40</td>\n",
              "    </tr>\n",
              "    <tr>\n",
              "      <th>바이오로그디바이스</th>\n",
              "      <td>208710</td>\n",
              "      <td>2183</td>\n",
              "      <td>360</td>\n",
              "      <td>639</td>\n",
              "      <td>-37</td>\n",
              "    </tr>\n",
              "    <tr>\n",
              "      <th>서전기전</th>\n",
              "      <td>189860</td>\n",
              "      <td>862</td>\n",
              "      <td>227</td>\n",
              "      <td>153</td>\n",
              "      <td>-11</td>\n",
              "    </tr>\n",
              "    <tr>\n",
              "      <th>아스트</th>\n",
              "      <td>067390</td>\n",
              "      <td>1968</td>\n",
              "      <td>1952</td>\n",
              "      <td>3039</td>\n",
              "      <td>-14</td>\n",
              "    </tr>\n",
              "    <tr>\n",
              "      <th>오킨스전자</th>\n",
              "      <td>080580</td>\n",
              "      <td>3589</td>\n",
              "      <td>219</td>\n",
              "      <td>300</td>\n",
              "      <td>1</td>\n",
              "    </tr>\n",
              "    <tr>\n",
              "      <th>지란지교시큐리티</th>\n",
              "      <td>208350</td>\n",
              "      <td>624</td>\n",
              "      <td>549</td>\n",
              "      <td>272</td>\n",
              "      <td>-24</td>\n",
              "    </tr>\n",
              "    <tr>\n",
              "      <th>NEW</th>\n",
              "      <td>160550</td>\n",
              "      <td>2763</td>\n",
              "      <td>1382</td>\n",
              "      <td>1709</td>\n",
              "      <td>5</td>\n",
              "    </tr>\n",
              "    <tr>\n",
              "      <th>아이티센</th>\n",
              "      <td>124500</td>\n",
              "      <td>1264</td>\n",
              "      <td>2789</td>\n",
              "      <td>3105</td>\n",
              "      <td>-5</td>\n",
              "    </tr>\n",
              "    <tr>\n",
              "      <th>녹십자엠에스</th>\n",
              "      <td>142280</td>\n",
              "      <td>2355</td>\n",
              "      <td>813</td>\n",
              "      <td>666</td>\n",
              "      <td>16</td>\n",
              "    </tr>\n",
              "    <tr>\n",
              "      <th>디티앤씨</th>\n",
              "      <td>187220</td>\n",
              "      <td>838</td>\n",
              "      <td>431</td>\n",
              "      <td>1080</td>\n",
              "      <td>-32</td>\n",
              "    </tr>\n",
              "    <tr>\n",
              "      <th>셀바스헬스케어</th>\n",
              "      <td>208370</td>\n",
              "      <td>610</td>\n",
              "      <td>228</td>\n",
              "      <td>204</td>\n",
              "      <td>-18</td>\n",
              "    </tr>\n",
              "    <tr>\n",
              "      <th>정다운</th>\n",
              "      <td>208140</td>\n",
              "      <td>1332</td>\n",
              "      <td>820</td>\n",
              "      <td>831</td>\n",
              "      <td>24</td>\n",
              "    </tr>\n",
              "    <tr>\n",
              "      <th>하이로닉</th>\n",
              "      <td>149980</td>\n",
              "      <td>939</td>\n",
              "      <td>295</td>\n",
              "      <td>38</td>\n",
              "      <td>3</td>\n",
              "    </tr>\n",
              "    <tr>\n",
              "      <th>랩지노믹스</th>\n",
              "      <td>084650</td>\n",
              "      <td>2880</td>\n",
              "      <td>981</td>\n",
              "      <td>347</td>\n",
              "      <td>134</td>\n",
              "    </tr>\n",
              "    <tr>\n",
              "      <th>에이디테크놀로지</th>\n",
              "      <td>200710</td>\n",
              "      <td>3286</td>\n",
              "      <td>1634</td>\n",
              "      <td>804</td>\n",
              "      <td>52</td>\n",
              "    </tr>\n",
              "    <tr>\n",
              "      <th>비씨월드제약</th>\n",
              "      <td>200780</td>\n",
              "      <td>1658</td>\n",
              "      <td>466</td>\n",
              "      <td>907</td>\n",
              "      <td>7</td>\n",
              "    </tr>\n",
              "    <tr>\n",
              "      <th>미스터블루</th>\n",
              "      <td>207760</td>\n",
              "      <td>2860</td>\n",
              "      <td>527</td>\n",
              "      <td>188</td>\n",
              "      <td>35</td>\n",
              "    </tr>\n",
              "    <tr>\n",
              "      <th>알테오젠</th>\n",
              "      <td>196170</td>\n",
              "      <td>40197</td>\n",
              "      <td>2412</td>\n",
              "      <td>220</td>\n",
              "      <td>4</td>\n",
              "    </tr>\n",
              "    <tr>\n",
              "      <th>엔터메이트</th>\n",
              "      <td>206400</td>\n",
              "      <td>1563</td>\n",
              "      <td>548</td>\n",
              "      <td>183</td>\n",
              "      <td>42</td>\n",
              "    </tr>\n",
              "    <tr>\n",
              "      <th>SKC코오롱PI</th>\n",
              "      <td>178920</td>\n",
              "      <td>15887</td>\n",
              "      <td>1586</td>\n",
              "      <td>1384</td>\n",
              "      <td>162</td>\n",
              "    </tr>\n",
              "    <tr>\n",
              "      <th>대창스틸</th>\n",
              "      <td>140520</td>\n",
              "      <td>797</td>\n",
              "      <td>1490</td>\n",
              "      <td>1702</td>\n",
              "      <td>54</td>\n",
              "    </tr>\n",
              "    <tr>\n",
              "      <th>에프엔씨엔터</th>\n",
              "      <td>173940</td>\n",
              "      <td>909</td>\n",
              "      <td>607</td>\n",
              "      <td>638</td>\n",
              "      <td>-38</td>\n",
              "    </tr>\n",
              "    <tr>\n",
              "      <th>하이제2호스팩</th>\n",
              "      <td>205470</td>\n",
              "      <td>6126</td>\n",
              "      <td>520</td>\n",
              "      <td>190</td>\n",
              "      <td>101</td>\n",
              "    </tr>\n",
              "    <tr>\n",
              "      <th>텔콘</th>\n",
              "      <td>200230</td>\n",
              "      <td>4135</td>\n",
              "      <td>463</td>\n",
              "      <td>955</td>\n",
              "      <td>27</td>\n",
              "    </tr>\n",
              "    <tr>\n",
              "      <th>파티게임즈</th>\n",
              "      <td>194510</td>\n",
              "      <td>72</td>\n",
              "      <td>676</td>\n",
              "      <td>893</td>\n",
              "      <td>-72</td>\n",
              "    </tr>\n",
              "    <tr>\n",
              "      <th>지엘팜텍</th>\n",
              "      <td>204840</td>\n",
              "      <td>697</td>\n",
              "      <td>146</td>\n",
              "      <td>212</td>\n",
              "      <td>-14</td>\n",
              "    </tr>\n",
              "    <tr>\n",
              "      <th>디에이테크놀로지</th>\n",
              "      <td>196490</td>\n",
              "      <td>1413</td>\n",
              "      <td>811</td>\n",
              "      <td>381</td>\n",
              "      <td>-31</td>\n",
              "    </tr>\n",
              "    <tr>\n",
              "      <th>유안타제1호스팩</th>\n",
              "      <td>204620</td>\n",
              "      <td>1869</td>\n",
              "      <td>473</td>\n",
              "      <td>237</td>\n",
              "      <td>-43</td>\n",
              "    </tr>\n",
              "    <tr>\n",
              "      <th>액션스퀘어</th>\n",
              "      <td>205500</td>\n",
              "      <td>2596</td>\n",
              "      <td>206</td>\n",
              "      <td>84</td>\n",
              "      <td>-14</td>\n",
              "    </tr>\n",
              "    <tr>\n",
              "      <th>엑셈</th>\n",
              "      <td>205100</td>\n",
              "      <td>1528</td>\n",
              "      <td>499</td>\n",
              "      <td>104</td>\n",
              "      <td>-1</td>\n",
              "    </tr>\n",
              "    <tr>\n",
              "      <th>테고사이언스</th>\n",
              "      <td>191420</td>\n",
              "      <td>2254</td>\n",
              "      <td>275</td>\n",
              "      <td>14</td>\n",
              "      <td>-6</td>\n",
              "    </tr>\n",
              "    <tr>\n",
              "      <th>슈피겐코리아</th>\n",
              "      <td>192440</td>\n",
              "      <td>3506</td>\n",
              "      <td>2244</td>\n",
              "      <td>630</td>\n",
              "      <td>168</td>\n",
              "    </tr>\n",
              "    <tr>\n",
              "      <th>테라셈</th>\n",
              "      <td>182690</td>\n",
              "      <td>305</td>\n",
              "      <td>47</td>\n",
              "      <td>295</td>\n",
              "      <td>-26</td>\n",
              "    </tr>\n",
              "    <tr>\n",
              "      <th>영우디에스피</th>\n",
              "      <td>143540</td>\n",
              "      <td>1284</td>\n",
              "      <td>559</td>\n",
              "      <td>370</td>\n",
              "      <td>74</td>\n",
              "    </tr>\n",
              "    <tr>\n",
              "      <th>드림시큐리티</th>\n",
              "      <td>203650</td>\n",
              "      <td>2697</td>\n",
              "      <td>909</td>\n",
              "      <td>1796</td>\n",
              "      <td>10</td>\n",
              "    </tr>\n",
              "    <tr>\n",
              "      <th>메디아나</th>\n",
              "      <td>041920</td>\n",
              "      <td>1211</td>\n",
              "      <td>558</td>\n",
              "      <td>110</td>\n",
              "      <td>25</td>\n",
              "    </tr>\n",
              "    <tr>\n",
              "      <th>데브시스터즈</th>\n",
              "      <td>194480</td>\n",
              "      <td>10179</td>\n",
              "      <td>1245</td>\n",
              "      <td>587</td>\n",
              "      <td>205</td>\n",
              "    </tr>\n",
              "    <tr>\n",
              "      <th>프로스테믹스</th>\n",
              "      <td>203690</td>\n",
              "      <td>1748</td>\n",
              "      <td>258</td>\n",
              "      <td>367</td>\n",
              "      <td>27</td>\n",
              "    </tr>\n",
              "  </tbody>\n",
              "</table>\n",
              "</div>"
            ],
            "text/plain": [
              "             Code Market_Value Current_Asset Total_Debt Net_Income\n",
              "퓨쳐스트림네트웍스  214270         1619          1144       1234         -4\n",
              "포시에스       189690          761           194         18         25\n",
              "덕산네오룩스     213420        13518          1017        283        123\n",
              "국일신동       060480          599           192         52          4\n",
              "바디텍메드      206640         5273          1250        355        123\n",
              "썸에이지       208640         4391           347         31        140\n",
              "와이제이엠게임즈   193250         1427           285        174        -13\n",
              "화이브라더스코리아  204630          997           628       1040        -92\n",
              "하이셈        200470         1260           198        592         -2\n",
              "휴메딕스       200670         3595           894        452         40\n",
              "바이오로그디바이스  208710         2183           360        639        -37\n",
              "서전기전       189860          862           227        153        -11\n",
              "아스트        067390         1968          1952       3039        -14\n",
              "오킨스전자      080580         3589           219        300          1\n",
              "지란지교시큐리티   208350          624           549        272        -24\n",
              "NEW        160550         2763          1382       1709          5\n",
              "아이티센       124500         1264          2789       3105         -5\n",
              "녹십자엠에스     142280         2355           813        666         16\n",
              "디티앤씨       187220          838           431       1080        -32\n",
              "셀바스헬스케어    208370          610           228        204        -18\n",
              "정다운        208140         1332           820        831         24\n",
              "하이로닉       149980          939           295         38          3\n",
              "랩지노믹스      084650         2880           981        347        134\n",
              "에이디테크놀로지   200710         3286          1634        804         52\n",
              "비씨월드제약     200780         1658           466        907          7\n",
              "미스터블루      207760         2860           527        188         35\n",
              "알테오젠       196170        40197          2412        220          4\n",
              "엔터메이트      206400         1563           548        183         42\n",
              "SKC코오롱PI   178920        15887          1586       1384        162\n",
              "대창스틸       140520          797          1490       1702         54\n",
              "에프엔씨엔터     173940          909           607        638        -38\n",
              "하이제2호스팩    205470         6126           520        190        101\n",
              "텔콘         200230         4135           463        955         27\n",
              "파티게임즈      194510           72           676        893        -72\n",
              "지엘팜텍       204840          697           146        212        -14\n",
              "디에이테크놀로지   196490         1413           811        381        -31\n",
              "유안타제1호스팩   204620         1869           473        237        -43\n",
              "액션스퀘어      205500         2596           206         84        -14\n",
              "엑셈         205100         1528           499        104         -1\n",
              "테고사이언스     191420         2254           275         14         -6\n",
              "슈피겐코리아     192440         3506          2244        630        168\n",
              "테라셈        182690          305            47        295        -26\n",
              "영우디에스피     143540         1284           559        370         74\n",
              "드림시큐리티     203650         2697           909       1796         10\n",
              "메디아나       041920         1211           558        110         25\n",
              "데브시스터즈     194480        10179          1245        587        205\n",
              "프로스테믹스     203690         1748           258        367         27"
            ]
          },
          "metadata": {
            "tags": []
          },
          "execution_count": 129
        }
      ]
    },
    {
      "cell_type": "code",
      "metadata": {
        "id": "YaKz5MlW3ktC"
      },
      "source": [
        "# 데이터 카피 해줘야함\n",
        "\n",
        "tmp_df = result_df.copy()\n",
        "#tmp_df"
      ],
      "execution_count": null,
      "outputs": []
    },
    {
      "cell_type": "markdown",
      "metadata": {
        "id": "GTO0yWuw1FMd"
      },
      "source": [
        "#Searching Stocks#"
      ]
    },
    {
      "cell_type": "code",
      "metadata": {
        "id": "2iFCDLc91FKN"
      },
      "source": [
        "tmp_df['NCAV'] = tmp_df['Current_Asset'] - tmp_df['Total_Debt'] #NCAV열 추가\n",
        "#tmp_df"
      ],
      "execution_count": null,
      "outputs": []
    },
    {
      "cell_type": "code",
      "metadata": {
        "colab": {
          "base_uri": "https://localhost:8080/",
          "height": 110
        },
        "id": "2eChfty4Q96I",
        "outputId": "da40c2d7-2f03-4cb4-98e4-f1728f081353"
      },
      "source": [
        "tmp_df[(tmp_df['NCAV'] > tmp_df['Market_Value']*0.3) & (tmp_df['Net_Income'] > 0)]"
      ],
      "execution_count": null,
      "outputs": [
        {
          "output_type": "execute_result",
          "data": {
            "text/html": [
              "<div>\n",
              "<style scoped>\n",
              "    .dataframe tbody tr th:only-of-type {\n",
              "        vertical-align: middle;\n",
              "    }\n",
              "\n",
              "    .dataframe tbody tr th {\n",
              "        vertical-align: top;\n",
              "    }\n",
              "\n",
              "    .dataframe thead th {\n",
              "        text-align: right;\n",
              "    }\n",
              "</style>\n",
              "<table border=\"1\" class=\"dataframe\">\n",
              "  <thead>\n",
              "    <tr style=\"text-align: right;\">\n",
              "      <th></th>\n",
              "      <th>Code</th>\n",
              "      <th>Market_Value</th>\n",
              "      <th>Current_Asset</th>\n",
              "      <th>Total_Debt</th>\n",
              "      <th>Net_Income</th>\n",
              "      <th>NCAV</th>\n",
              "    </tr>\n",
              "  </thead>\n",
              "  <tbody>\n",
              "    <tr>\n",
              "      <th>슈피겐코리아</th>\n",
              "      <td>192440</td>\n",
              "      <td>3506</td>\n",
              "      <td>2244</td>\n",
              "      <td>630</td>\n",
              "      <td>168</td>\n",
              "      <td>1614</td>\n",
              "    </tr>\n",
              "    <tr>\n",
              "      <th>메디아나</th>\n",
              "      <td>041920</td>\n",
              "      <td>1211</td>\n",
              "      <td>558</td>\n",
              "      <td>110</td>\n",
              "      <td>25</td>\n",
              "      <td>448</td>\n",
              "    </tr>\n",
              "  </tbody>\n",
              "</table>\n",
              "</div>"
            ],
            "text/plain": [
              "          Code Market_Value Current_Asset Total_Debt Net_Income  NCAV\n",
              "슈피겐코리아  192440         3506          2244        630        168  1614\n",
              "메디아나    041920         1211           558        110         25   448"
            ]
          },
          "metadata": {
            "tags": []
          },
          "execution_count": 143
        }
      ]
    }
  ]
}