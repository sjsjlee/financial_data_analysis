{
  "nbformat": 4,
  "nbformat_minor": 0,
  "metadata": {
    "colab": {
      "name": "smallcap+lowpbr.ipynb",
      "provenance": [],
      "collapsed_sections": [],
      "authorship_tag": "ABX9TyMvAMrl3ZP0kBWi1+XRhrgK",
      "include_colab_link": true
    },
    "kernelspec": {
      "name": "python3",
      "display_name": "Python 3"
    },
    "language_info": {
      "name": "python"
    }
  },
  "cells": [
    {
      "cell_type": "markdown",
      "metadata": {
        "id": "view-in-github",
        "colab_type": "text"
      },
      "source": [
        "<a href=\"https://colab.research.google.com/github/sjsjlee/financial_data_analysis/blob/main/smallcap%2Blowpbr.ipynb\" target=\"_parent\"><img src=\"https://colab.research.google.com/assets/colab-badge.svg\" alt=\"Open In Colab\"/></a>"
      ]
    },
    {
      "cell_type": "markdown",
      "metadata": {
        "id": "4o77eyKU_BOi"
      },
      "source": [
        "#Small Cap + Low_PBR#"
      ]
    },
    {
      "cell_type": "markdown",
      "metadata": {
        "id": "aNmSiqJ7_Qoa"
      },
      "source": [
        "1. 레벨 : 초중급\n",
        "\n",
        "2. 스타일 : 밸류\n",
        "\n",
        "3. 기대 CAGR : 20% 이상\n",
        "\n",
        "4. 종목개수 20~30개\n",
        "\n",
        "5. 매수전략\n",
        "-  소형주(시가총액 하위 20%)\n",
        "-  PBR 하위 부터(PBR > 0.2)"
      ]
    },
    {
      "cell_type": "markdown",
      "metadata": {
        "id": "RdEZZJOY_kUT"
      },
      "source": [
        "#Basic Setting#"
      ]
    },
    {
      "cell_type": "code",
      "metadata": {
        "id": "s2rjuUoA-5JM"
      },
      "source": [
        "import pandas as pd\n",
        "from tqdm import tqdm\n",
        "from bs4 import BeautifulSoup\n",
        "import urllib.request"
      ],
      "execution_count": null,
      "outputs": []
    },
    {
      "cell_type": "code",
      "metadata": {
        "id": "Rr39tlZN_hrG"
      },
      "source": [
        "SNAP_URL = 'https://comp.fnguide.com/SVO2/ASP/SVD_Main.asp?pGB=1&gicode=A%s&cID=&MenuYn=Y&ReportGB=&NewMenuID=101&stkGb=701'\n",
        "\n",
        "\n",
        "sample_code = '035720'"
      ],
      "execution_count": null,
      "outputs": []
    },
    {
      "cell_type": "code",
      "metadata": {
        "id": "14x0wYPu_htI"
      },
      "source": [
        "\n",
        "snap = urllib.request.urlopen(SNAP_URL % sample_code).read()\n",
        "snap_soup = BeautifulSoup(snap, 'html.parser')\n",
        "\n",
        "invest = urllib.request.urlopen(INVESTING_URL % sample_code).read()\n",
        "invest_soup = BeautifulSoup(invest, 'html.parser')"
      ],
      "execution_count": null,
      "outputs": []
    },
    {
      "cell_type": "markdown",
      "metadata": {
        "id": "_HCo8C-B_hvP"
      },
      "source": [
        "#Get All Stock#"
      ]
    },
    {
      "cell_type": "code",
      "metadata": {
        "colab": {
          "base_uri": "https://localhost:8080/",
          "height": 337
        },
        "id": "OW52Ym9c_hxM",
        "outputId": "2a4b9e02-44f2-4ffc-996b-7f67ee51c1b1"
      },
      "source": [
        "from google.colab import drive\n",
        "drive.mount('/content/drive')\n",
        "\n",
        "import pandas as pd\n",
        "\n",
        "csv_url = '/content/drive/MyDrive/QUANT/company.csv'\n",
        "\n",
        "company = pd.read_csv(csv_url, encoding='utf-8')\n",
        "\n",
        "print(company.shape)\n",
        "company.head()"
      ],
      "execution_count": null,
      "outputs": [
        {
          "output_type": "stream",
          "text": [
            "Mounted at /content/drive\n",
            "(2022, 11)\n"
          ],
          "name": "stdout"
        },
        {
          "output_type": "execute_result",
          "data": {
            "text/html": [
              "<div>\n",
              "<style scoped>\n",
              "    .dataframe tbody tr th:only-of-type {\n",
              "        vertical-align: middle;\n",
              "    }\n",
              "\n",
              "    .dataframe tbody tr th {\n",
              "        vertical-align: top;\n",
              "    }\n",
              "\n",
              "    .dataframe thead th {\n",
              "        text-align: right;\n",
              "    }\n",
              "</style>\n",
              "<table border=\"1\" class=\"dataframe\">\n",
              "  <thead>\n",
              "    <tr style=\"text-align: right;\">\n",
              "      <th></th>\n",
              "      <th>분류</th>\n",
              "      <th>회사명</th>\n",
              "      <th>종목코드</th>\n",
              "      <th>업종</th>\n",
              "      <th>주요제품</th>\n",
              "      <th>상장일</th>\n",
              "      <th>결산월</th>\n",
              "      <th>대표자명</th>\n",
              "      <th>홈페이지</th>\n",
              "      <th>지역</th>\n",
              "      <th>구글코드</th>\n",
              "    </tr>\n",
              "  </thead>\n",
              "  <tbody>\n",
              "    <tr>\n",
              "      <th>0</th>\n",
              "      <td>코스피</td>\n",
              "      <td>두산우</td>\n",
              "      <td>000155</td>\n",
              "      <td>회사 본부 및 경영 컨설팅 서비스업</td>\n",
              "      <td>청주,소주,인쇄회로기판(인쇄회로용동박적층판),관련전자부품,기계 제조,판매/출판사업,...</td>\n",
              "      <td>1973-06-29</td>\n",
              "      <td>12월</td>\n",
              "      <td>박정원, 이재경</td>\n",
              "      <td>http://www.doosancorp.co.kr</td>\n",
              "      <td>서울특별시</td>\n",
              "      <td>KRX:000155</td>\n",
              "    </tr>\n",
              "    <tr>\n",
              "      <th>1</th>\n",
              "      <td>코스피</td>\n",
              "      <td>한화3우B</td>\n",
              "      <td>00088K</td>\n",
              "      <td>기타 화학제품 제조업</td>\n",
              "      <td>화약,화공품,자동선반류,공작기계 제조,전자교환기,건설,정보통신,종합무역/임직원 및 ...</td>\n",
              "      <td>1976-06-24</td>\n",
              "      <td>12월</td>\n",
              "      <td>최양수, 이태종, 김연철, 이민석</td>\n",
              "      <td>http://www.hanwhacorp.co.kr</td>\n",
              "      <td>서울특별시</td>\n",
              "      <td>KRX:00088K</td>\n",
              "    </tr>\n",
              "    <tr>\n",
              "      <th>2</th>\n",
              "      <td>코스피</td>\n",
              "      <td>S-Oil우</td>\n",
              "      <td>010955</td>\n",
              "      <td>석유 정제품 제조업</td>\n",
              "      <td>석유제품,가스,윤활기유,윤활유,그리스,석유화학제품 제조,도매</td>\n",
              "      <td>1987-05-27</td>\n",
              "      <td>12월</td>\n",
              "      <td>Othman Al-Ghamdi</td>\n",
              "      <td>http://www.s-oil.com</td>\n",
              "      <td>서울특별시</td>\n",
              "      <td>KRX:010955</td>\n",
              "    </tr>\n",
              "    <tr>\n",
              "      <th>3</th>\n",
              "      <td>코스피</td>\n",
              "      <td>LG화학우</td>\n",
              "      <td>051915</td>\n",
              "      <td>기초 화학물질 제조업</td>\n",
              "      <td>유화/기능/합성수지,재생섬유소,산업재,리튬이온전지,평광판,PVC 제조,도매</td>\n",
              "      <td>2001-04-25</td>\n",
              "      <td>12월</td>\n",
              "      <td>박진수</td>\n",
              "      <td>http://www.lgchem.com</td>\n",
              "      <td>서울특별시</td>\n",
              "      <td>KRX:051915</td>\n",
              "    </tr>\n",
              "    <tr>\n",
              "      <th>4</th>\n",
              "      <td>코스피</td>\n",
              "      <td>한국금융지주우</td>\n",
              "      <td>071055</td>\n",
              "      <td>기타 금융업</td>\n",
              "      <td>금융지주회사</td>\n",
              "      <td>2003-07-21</td>\n",
              "      <td>12월</td>\n",
              "      <td>김남구</td>\n",
              "      <td>http://www.koreaholdings.com</td>\n",
              "      <td>서울특별시</td>\n",
              "      <td>KRX:071055</td>\n",
              "    </tr>\n",
              "  </tbody>\n",
              "</table>\n",
              "</div>"
            ],
            "text/plain": [
              "    분류      회사명    종목코드  ...                          홈페이지     지역        구글코드\n",
              "0  코스피      두산우  000155  ...   http://www.doosancorp.co.kr  서울특별시  KRX:000155\n",
              "1  코스피    한화3우B  00088K  ...   http://www.hanwhacorp.co.kr  서울특별시  KRX:00088K\n",
              "2  코스피   S-Oil우  010955  ...          http://www.s-oil.com  서울특별시  KRX:010955\n",
              "3  코스피    LG화학우  051915  ...         http://www.lgchem.com  서울특별시  KRX:051915\n",
              "4  코스피  한국금융지주우  071055  ...  http://www.koreaholdings.com  서울특별시  KRX:071055\n",
              "\n",
              "[5 rows x 11 columns]"
            ]
          },
          "metadata": {
            "tags": []
          },
          "execution_count": 6
        }
      ]
    },
    {
      "cell_type": "code",
      "metadata": {
        "id": "POnEHItO_hzT"
      },
      "source": [
        "code_list = company['종목코드']\n",
        "\n",
        "sample_code_list = code_list[1000:1050]"
      ],
      "execution_count": null,
      "outputs": []
    },
    {
      "cell_type": "markdown",
      "metadata": {
        "id": "Sq9FX9b3_h1E"
      },
      "source": [
        "#Data Analysis#"
      ]
    },
    {
      "cell_type": "code",
      "metadata": {
        "colab": {
          "base_uri": "https://localhost:8080/"
        },
        "id": "UPo0SoTeDEVC",
        "outputId": "650f96ad-3cbc-491d-c078-7efc92de6647"
      },
      "source": [
        "#get pbr\n",
        "\n",
        "pbr_cells = snap_soup.find('div', {'id': 'highlight_D_A'}).find_all('td', {'class' : 'r'})\n",
        "pbr = float(pbr_cells[-18].string.replace(',', ''))\n",
        "pbr"
      ],
      "execution_count": null,
      "outputs": [
        {
          "output_type": "execute_result",
          "data": {
            "text/plain": [
              "6.66"
            ]
          },
          "metadata": {
            "tags": []
          },
          "execution_count": 31
        }
      ]
    },
    {
      "cell_type": "code",
      "metadata": {
        "colab": {
          "base_uri": "https://localhost:8080/"
        },
        "id": "9LaSx7upCNiy",
        "outputId": "827a7895-15f3-49b9-b4fb-4d7dee7fa89a"
      },
      "source": [
        "      #get market_value\n",
        "      mv_cells = snap_soup.find('div', {'id' : 'svdMainGrid1'}).find_all('td', {'class' :'r'})\n",
        "      market_value = float(mv_cells[8].string.replace(',',''))\n",
        "      market_value\n",
        "\n",
        "      "
      ],
      "execution_count": null,
      "outputs": [
        {
          "output_type": "execute_result",
          "data": {
            "text/plain": [
              "699189.0"
            ]
          },
          "metadata": {
            "tags": []
          },
          "execution_count": 30
        }
      ]
    },
    {
      "cell_type": "code",
      "metadata": {
        "id": "wWCRkC-dBB5Z"
      },
      "source": [
        "def crawler(li):\n",
        "  #url 세팅\n",
        "  SNAP_URL = 'https://comp.fnguide.com/SVO2/ASP/SVD_Main.asp?pGB=1&gicode=A%s&cID=&MenuYn=Y&ReportGB=&NewMenuID=101&stkGb=701'\n",
        "\n",
        "  result = {}\n",
        "\n",
        "  for code in tqdm(li) :\n",
        "    try :\n",
        "      snap = urllib.request.urlopen(SNAP_URL % code).read()\n",
        "      snap_soup = BeautifulSoup(snap, 'html.parser')\n",
        "\n",
        "      #get company name\n",
        "      name = company[company['종목코드'] == code]['회사명'].values[0]\n",
        "\n",
        "      #get market_value\n",
        "      mv_cells = snap_soup.find('div', {'id' : 'svdMainGrid1'}).find_all('td', {'class' :'r'})\n",
        "      market_value = float(mv_cells[8].string.replace(',',''))\n",
        "      \n",
        "\n",
        "      #get pbr\n",
        "      pbr_cells = snap_soup.find('div', {'id': 'highlight_D_A'}).find_all('td', {'class' : 'r'})\n",
        "      pbr = float(pbr_cells[-18].string.replace(',', ''))\n",
        "\n",
        "      #insert into result dict\n",
        "      result[name] = [code, market_value, pbr]\n",
        "         \n",
        "\n",
        "    except (ValueError, AttributeError,IndexError, TypeError) :\n",
        "      pass \n",
        "\n",
        "  #convert dict into DataFrame\n",
        "  result_df = pd.DataFrame(result)\n",
        "\n",
        "  #transposing DataFrame\n",
        "  result_df = result_df.transpose()\n",
        "\n",
        "  #Set Column name\n",
        "  result_df.columns = ['Code', 'Market_Value', 'PBR']\n",
        "\n",
        "  return result_df   "
      ],
      "execution_count": null,
      "outputs": []
    },
    {
      "cell_type": "code",
      "metadata": {
        "id": "YyXadHRq_h3L",
        "colab": {
          "base_uri": "https://localhost:8080/",
          "height": 1000
        },
        "outputId": "6d8db12e-5570-45b6-96ef-80368d9d5041"
      },
      "source": [
        "result_df = crawler(sample_code_list)\n",
        "result_df"
      ],
      "execution_count": null,
      "outputs": [
        {
          "output_type": "stream",
          "text": [
            "100%|██████████| 50/50 [01:31<00:00,  1.84s/it]\n"
          ],
          "name": "stderr"
        },
        {
          "output_type": "execute_result",
          "data": {
            "text/html": [
              "<div>\n",
              "<style scoped>\n",
              "    .dataframe tbody tr th:only-of-type {\n",
              "        vertical-align: middle;\n",
              "    }\n",
              "\n",
              "    .dataframe tbody tr th {\n",
              "        vertical-align: top;\n",
              "    }\n",
              "\n",
              "    .dataframe thead th {\n",
              "        text-align: right;\n",
              "    }\n",
              "</style>\n",
              "<table border=\"1\" class=\"dataframe\">\n",
              "  <thead>\n",
              "    <tr style=\"text-align: right;\">\n",
              "      <th></th>\n",
              "      <th>Code</th>\n",
              "      <th>Market_Value</th>\n",
              "      <th>PBR</th>\n",
              "    </tr>\n",
              "  </thead>\n",
              "  <tbody>\n",
              "    <tr>\n",
              "      <th>퓨쳐스트림네트웍스</th>\n",
              "      <td>214270</td>\n",
              "      <td>1619</td>\n",
              "      <td>2.12</td>\n",
              "    </tr>\n",
              "    <tr>\n",
              "      <th>포시에스</th>\n",
              "      <td>189690</td>\n",
              "      <td>761</td>\n",
              "      <td>1.06</td>\n",
              "    </tr>\n",
              "    <tr>\n",
              "      <th>바디텍메드</th>\n",
              "      <td>206640</td>\n",
              "      <td>5273</td>\n",
              "      <td>3</td>\n",
              "    </tr>\n",
              "    <tr>\n",
              "      <th>썸에이지</th>\n",
              "      <td>208640</td>\n",
              "      <td>4391</td>\n",
              "      <td>9.8</td>\n",
              "    </tr>\n",
              "    <tr>\n",
              "      <th>와이제이엠게임즈</th>\n",
              "      <td>193250</td>\n",
              "      <td>1427</td>\n",
              "      <td>1.91</td>\n",
              "    </tr>\n",
              "    <tr>\n",
              "      <th>휴메딕스</th>\n",
              "      <td>200670</td>\n",
              "      <td>3595</td>\n",
              "      <td>1.74</td>\n",
              "    </tr>\n",
              "    <tr>\n",
              "      <th>바이오로그디바이스</th>\n",
              "      <td>208710</td>\n",
              "      <td>2183</td>\n",
              "      <td>2.19</td>\n",
              "    </tr>\n",
              "    <tr>\n",
              "      <th>아스트</th>\n",
              "      <td>067390</td>\n",
              "      <td>1968</td>\n",
              "      <td>1.02</td>\n",
              "    </tr>\n",
              "    <tr>\n",
              "      <th>오킨스전자</th>\n",
              "      <td>080580</td>\n",
              "      <td>3589</td>\n",
              "      <td>17.03</td>\n",
              "    </tr>\n",
              "    <tr>\n",
              "      <th>지란지교시큐리티</th>\n",
              "      <td>208350</td>\n",
              "      <td>624</td>\n",
              "      <td>1.26</td>\n",
              "    </tr>\n",
              "    <tr>\n",
              "      <th>NEW</th>\n",
              "      <td>160550</td>\n",
              "      <td>2763</td>\n",
              "      <td>3.44</td>\n",
              "    </tr>\n",
              "    <tr>\n",
              "      <th>아이티센</th>\n",
              "      <td>124500</td>\n",
              "      <td>1264</td>\n",
              "      <td>1.9</td>\n",
              "    </tr>\n",
              "    <tr>\n",
              "      <th>녹십자엠에스</th>\n",
              "      <td>142280</td>\n",
              "      <td>2355</td>\n",
              "      <td>3.59</td>\n",
              "    </tr>\n",
              "    <tr>\n",
              "      <th>디티앤씨</th>\n",
              "      <td>187220</td>\n",
              "      <td>838</td>\n",
              "      <td>1.03</td>\n",
              "    </tr>\n",
              "    <tr>\n",
              "      <th>셀바스헬스케어</th>\n",
              "      <td>208370</td>\n",
              "      <td>610</td>\n",
              "      <td>2.34</td>\n",
              "    </tr>\n",
              "    <tr>\n",
              "      <th>정다운</th>\n",
              "      <td>208140</td>\n",
              "      <td>1332</td>\n",
              "      <td>1.67</td>\n",
              "    </tr>\n",
              "    <tr>\n",
              "      <th>하이로닉</th>\n",
              "      <td>149980</td>\n",
              "      <td>939</td>\n",
              "      <td>1.5</td>\n",
              "    </tr>\n",
              "    <tr>\n",
              "      <th>랩지노믹스</th>\n",
              "      <td>084650</td>\n",
              "      <td>2880</td>\n",
              "      <td>2.04</td>\n",
              "    </tr>\n",
              "    <tr>\n",
              "      <th>에이디테크놀로지</th>\n",
              "      <td>200710</td>\n",
              "      <td>3286</td>\n",
              "      <td>2.2</td>\n",
              "    </tr>\n",
              "    <tr>\n",
              "      <th>비씨월드제약</th>\n",
              "      <td>200780</td>\n",
              "      <td>1658</td>\n",
              "      <td>1.45</td>\n",
              "    </tr>\n",
              "    <tr>\n",
              "      <th>미스터블루</th>\n",
              "      <td>207760</td>\n",
              "      <td>2860</td>\n",
              "      <td>4.28</td>\n",
              "    </tr>\n",
              "    <tr>\n",
              "      <th>알테오젠</th>\n",
              "      <td>196170</td>\n",
              "      <td>40197</td>\n",
              "      <td>17.18</td>\n",
              "    </tr>\n",
              "    <tr>\n",
              "      <th>엔터메이트</th>\n",
              "      <td>206400</td>\n",
              "      <td>1563</td>\n",
              "      <td>2.59</td>\n",
              "    </tr>\n",
              "    <tr>\n",
              "      <th>대창스틸</th>\n",
              "      <td>140520</td>\n",
              "      <td>797</td>\n",
              "      <td>0.66</td>\n",
              "    </tr>\n",
              "    <tr>\n",
              "      <th>에프엔씨엔터</th>\n",
              "      <td>173940</td>\n",
              "      <td>909</td>\n",
              "      <td>1.44</td>\n",
              "    </tr>\n",
              "    <tr>\n",
              "      <th>하이제2호스팩</th>\n",
              "      <td>205470</td>\n",
              "      <td>6126</td>\n",
              "      <td>3.93</td>\n",
              "    </tr>\n",
              "    <tr>\n",
              "      <th>텔콘</th>\n",
              "      <td>200230</td>\n",
              "      <td>4135</td>\n",
              "      <td>4.61</td>\n",
              "    </tr>\n",
              "    <tr>\n",
              "      <th>파티게임즈</th>\n",
              "      <td>194510</td>\n",
              "      <td>72</td>\n",
              "      <td>0.35</td>\n",
              "    </tr>\n",
              "    <tr>\n",
              "      <th>지엘팜텍</th>\n",
              "      <td>204840</td>\n",
              "      <td>697</td>\n",
              "      <td>5.12</td>\n",
              "    </tr>\n",
              "    <tr>\n",
              "      <th>디에이테크놀로지</th>\n",
              "      <td>196490</td>\n",
              "      <td>1413</td>\n",
              "      <td>1.43</td>\n",
              "    </tr>\n",
              "    <tr>\n",
              "      <th>유안타제1호스팩</th>\n",
              "      <td>204620</td>\n",
              "      <td>1869</td>\n",
              "      <td>1.46</td>\n",
              "    </tr>\n",
              "    <tr>\n",
              "      <th>액션스퀘어</th>\n",
              "      <td>205500</td>\n",
              "      <td>2596</td>\n",
              "      <td>5.07</td>\n",
              "    </tr>\n",
              "    <tr>\n",
              "      <th>엑셈</th>\n",
              "      <td>205100</td>\n",
              "      <td>1528</td>\n",
              "      <td>2.05</td>\n",
              "    </tr>\n",
              "    <tr>\n",
              "      <th>테고사이언스</th>\n",
              "      <td>191420</td>\n",
              "      <td>2254</td>\n",
              "      <td>4.31</td>\n",
              "    </tr>\n",
              "    <tr>\n",
              "      <th>슈피겐코리아</th>\n",
              "      <td>192440</td>\n",
              "      <td>3506</td>\n",
              "      <td>1.06</td>\n",
              "    </tr>\n",
              "    <tr>\n",
              "      <th>테라셈</th>\n",
              "      <td>182690</td>\n",
              "      <td>305</td>\n",
              "      <td>1.26</td>\n",
              "    </tr>\n",
              "    <tr>\n",
              "      <th>영우디에스피</th>\n",
              "      <td>143540</td>\n",
              "      <td>1284</td>\n",
              "      <td>1.67</td>\n",
              "    </tr>\n",
              "    <tr>\n",
              "      <th>드림시큐리티</th>\n",
              "      <td>203650</td>\n",
              "      <td>2697</td>\n",
              "      <td>3.08</td>\n",
              "    </tr>\n",
              "    <tr>\n",
              "      <th>메디아나</th>\n",
              "      <td>041920</td>\n",
              "      <td>1211</td>\n",
              "      <td>1.76</td>\n",
              "    </tr>\n",
              "    <tr>\n",
              "      <th>데브시스터즈</th>\n",
              "      <td>194480</td>\n",
              "      <td>10179</td>\n",
              "      <td>8.03</td>\n",
              "    </tr>\n",
              "    <tr>\n",
              "      <th>프로스테믹스</th>\n",
              "      <td>203690</td>\n",
              "      <td>1748</td>\n",
              "      <td>5.42</td>\n",
              "    </tr>\n",
              "  </tbody>\n",
              "</table>\n",
              "</div>"
            ],
            "text/plain": [
              "             Code Market_Value    PBR\n",
              "퓨쳐스트림네트웍스  214270         1619   2.12\n",
              "포시에스       189690          761   1.06\n",
              "바디텍메드      206640         5273      3\n",
              "썸에이지       208640         4391    9.8\n",
              "와이제이엠게임즈   193250         1427   1.91\n",
              "휴메딕스       200670         3595   1.74\n",
              "바이오로그디바이스  208710         2183   2.19\n",
              "아스트        067390         1968   1.02\n",
              "오킨스전자      080580         3589  17.03\n",
              "지란지교시큐리티   208350          624   1.26\n",
              "NEW        160550         2763   3.44\n",
              "아이티센       124500         1264    1.9\n",
              "녹십자엠에스     142280         2355   3.59\n",
              "디티앤씨       187220          838   1.03\n",
              "셀바스헬스케어    208370          610   2.34\n",
              "정다운        208140         1332   1.67\n",
              "하이로닉       149980          939    1.5\n",
              "랩지노믹스      084650         2880   2.04\n",
              "에이디테크놀로지   200710         3286    2.2\n",
              "비씨월드제약     200780         1658   1.45\n",
              "미스터블루      207760         2860   4.28\n",
              "알테오젠       196170        40197  17.18\n",
              "엔터메이트      206400         1563   2.59\n",
              "대창스틸       140520          797   0.66\n",
              "에프엔씨엔터     173940          909   1.44\n",
              "하이제2호스팩    205470         6126   3.93\n",
              "텔콘         200230         4135   4.61\n",
              "파티게임즈      194510           72   0.35\n",
              "지엘팜텍       204840          697   5.12\n",
              "디에이테크놀로지   196490         1413   1.43\n",
              "유안타제1호스팩   204620         1869   1.46\n",
              "액션스퀘어      205500         2596   5.07\n",
              "엑셈         205100         1528   2.05\n",
              "테고사이언스     191420         2254   4.31\n",
              "슈피겐코리아     192440         3506   1.06\n",
              "테라셈        182690          305   1.26\n",
              "영우디에스피     143540         1284   1.67\n",
              "드림시큐리티     203650         2697   3.08\n",
              "메디아나       041920         1211   1.76\n",
              "데브시스터즈     194480        10179   8.03\n",
              "프로스테믹스     203690         1748   5.42"
            ]
          },
          "metadata": {
            "tags": []
          },
          "execution_count": 35
        }
      ]
    },
    {
      "cell_type": "code",
      "metadata": {
        "id": "EX26Nnl7gAeZ"
      },
      "source": [
        "copy_df = result_df.copy()"
      ],
      "execution_count": null,
      "outputs": []
    },
    {
      "cell_type": "markdown",
      "metadata": {
        "id": "AQCQ4d-E_h5I"
      },
      "source": [
        "#Searching Stocks#"
      ]
    },
    {
      "cell_type": "code",
      "metadata": {
        "id": "Kv4opCuW_iAl"
      },
      "source": [
        "filtered_df = copy_df[(copy_df['PBR']>0.2)] #market value 어떻게 추출?"
      ],
      "execution_count": null,
      "outputs": []
    },
    {
      "cell_type": "code",
      "metadata": {
        "id": "H8AXGFT9_iDC"
      },
      "source": [
        "#copy_df.sort_values(by='market_value')"
      ],
      "execution_count": null,
      "outputs": []
    },
    {
      "cell_type": "code",
      "metadata": {
        "id": "-t5gZoyT_iE6",
        "colab": {
          "base_uri": "https://localhost:8080/",
          "height": 1000
        },
        "outputId": "cfa7193c-3789-460b-e0ef-41ca99155923"
      },
      "source": [
        "filtered_df.sort_values(by='PBR', ascending = True)"
      ],
      "execution_count": null,
      "outputs": [
        {
          "output_type": "execute_result",
          "data": {
            "text/html": [
              "<div>\n",
              "<style scoped>\n",
              "    .dataframe tbody tr th:only-of-type {\n",
              "        vertical-align: middle;\n",
              "    }\n",
              "\n",
              "    .dataframe tbody tr th {\n",
              "        vertical-align: top;\n",
              "    }\n",
              "\n",
              "    .dataframe thead th {\n",
              "        text-align: right;\n",
              "    }\n",
              "</style>\n",
              "<table border=\"1\" class=\"dataframe\">\n",
              "  <thead>\n",
              "    <tr style=\"text-align: right;\">\n",
              "      <th></th>\n",
              "      <th>Code</th>\n",
              "      <th>Market_Value</th>\n",
              "      <th>PBR</th>\n",
              "    </tr>\n",
              "  </thead>\n",
              "  <tbody>\n",
              "    <tr>\n",
              "      <th>파티게임즈</th>\n",
              "      <td>194510</td>\n",
              "      <td>72</td>\n",
              "      <td>0.35</td>\n",
              "    </tr>\n",
              "    <tr>\n",
              "      <th>대창스틸</th>\n",
              "      <td>140520</td>\n",
              "      <td>797</td>\n",
              "      <td>0.66</td>\n",
              "    </tr>\n",
              "    <tr>\n",
              "      <th>아스트</th>\n",
              "      <td>067390</td>\n",
              "      <td>1968</td>\n",
              "      <td>1.02</td>\n",
              "    </tr>\n",
              "    <tr>\n",
              "      <th>디티앤씨</th>\n",
              "      <td>187220</td>\n",
              "      <td>838</td>\n",
              "      <td>1.03</td>\n",
              "    </tr>\n",
              "    <tr>\n",
              "      <th>포시에스</th>\n",
              "      <td>189690</td>\n",
              "      <td>761</td>\n",
              "      <td>1.06</td>\n",
              "    </tr>\n",
              "    <tr>\n",
              "      <th>슈피겐코리아</th>\n",
              "      <td>192440</td>\n",
              "      <td>3506</td>\n",
              "      <td>1.06</td>\n",
              "    </tr>\n",
              "    <tr>\n",
              "      <th>테라셈</th>\n",
              "      <td>182690</td>\n",
              "      <td>305</td>\n",
              "      <td>1.26</td>\n",
              "    </tr>\n",
              "    <tr>\n",
              "      <th>지란지교시큐리티</th>\n",
              "      <td>208350</td>\n",
              "      <td>624</td>\n",
              "      <td>1.26</td>\n",
              "    </tr>\n",
              "    <tr>\n",
              "      <th>디에이테크놀로지</th>\n",
              "      <td>196490</td>\n",
              "      <td>1413</td>\n",
              "      <td>1.43</td>\n",
              "    </tr>\n",
              "    <tr>\n",
              "      <th>에프엔씨엔터</th>\n",
              "      <td>173940</td>\n",
              "      <td>909</td>\n",
              "      <td>1.44</td>\n",
              "    </tr>\n",
              "    <tr>\n",
              "      <th>비씨월드제약</th>\n",
              "      <td>200780</td>\n",
              "      <td>1658</td>\n",
              "      <td>1.45</td>\n",
              "    </tr>\n",
              "    <tr>\n",
              "      <th>유안타제1호스팩</th>\n",
              "      <td>204620</td>\n",
              "      <td>1869</td>\n",
              "      <td>1.46</td>\n",
              "    </tr>\n",
              "    <tr>\n",
              "      <th>하이로닉</th>\n",
              "      <td>149980</td>\n",
              "      <td>939</td>\n",
              "      <td>1.5</td>\n",
              "    </tr>\n",
              "    <tr>\n",
              "      <th>영우디에스피</th>\n",
              "      <td>143540</td>\n",
              "      <td>1284</td>\n",
              "      <td>1.67</td>\n",
              "    </tr>\n",
              "    <tr>\n",
              "      <th>정다운</th>\n",
              "      <td>208140</td>\n",
              "      <td>1332</td>\n",
              "      <td>1.67</td>\n",
              "    </tr>\n",
              "    <tr>\n",
              "      <th>휴메딕스</th>\n",
              "      <td>200670</td>\n",
              "      <td>3595</td>\n",
              "      <td>1.74</td>\n",
              "    </tr>\n",
              "    <tr>\n",
              "      <th>메디아나</th>\n",
              "      <td>041920</td>\n",
              "      <td>1211</td>\n",
              "      <td>1.76</td>\n",
              "    </tr>\n",
              "    <tr>\n",
              "      <th>아이티센</th>\n",
              "      <td>124500</td>\n",
              "      <td>1264</td>\n",
              "      <td>1.9</td>\n",
              "    </tr>\n",
              "    <tr>\n",
              "      <th>와이제이엠게임즈</th>\n",
              "      <td>193250</td>\n",
              "      <td>1427</td>\n",
              "      <td>1.91</td>\n",
              "    </tr>\n",
              "    <tr>\n",
              "      <th>랩지노믹스</th>\n",
              "      <td>084650</td>\n",
              "      <td>2880</td>\n",
              "      <td>2.04</td>\n",
              "    </tr>\n",
              "    <tr>\n",
              "      <th>엑셈</th>\n",
              "      <td>205100</td>\n",
              "      <td>1528</td>\n",
              "      <td>2.05</td>\n",
              "    </tr>\n",
              "    <tr>\n",
              "      <th>퓨쳐스트림네트웍스</th>\n",
              "      <td>214270</td>\n",
              "      <td>1619</td>\n",
              "      <td>2.12</td>\n",
              "    </tr>\n",
              "    <tr>\n",
              "      <th>바이오로그디바이스</th>\n",
              "      <td>208710</td>\n",
              "      <td>2183</td>\n",
              "      <td>2.19</td>\n",
              "    </tr>\n",
              "    <tr>\n",
              "      <th>에이디테크놀로지</th>\n",
              "      <td>200710</td>\n",
              "      <td>3286</td>\n",
              "      <td>2.2</td>\n",
              "    </tr>\n",
              "    <tr>\n",
              "      <th>셀바스헬스케어</th>\n",
              "      <td>208370</td>\n",
              "      <td>610</td>\n",
              "      <td>2.34</td>\n",
              "    </tr>\n",
              "    <tr>\n",
              "      <th>엔터메이트</th>\n",
              "      <td>206400</td>\n",
              "      <td>1563</td>\n",
              "      <td>2.59</td>\n",
              "    </tr>\n",
              "    <tr>\n",
              "      <th>바디텍메드</th>\n",
              "      <td>206640</td>\n",
              "      <td>5273</td>\n",
              "      <td>3</td>\n",
              "    </tr>\n",
              "    <tr>\n",
              "      <th>드림시큐리티</th>\n",
              "      <td>203650</td>\n",
              "      <td>2697</td>\n",
              "      <td>3.08</td>\n",
              "    </tr>\n",
              "    <tr>\n",
              "      <th>NEW</th>\n",
              "      <td>160550</td>\n",
              "      <td>2763</td>\n",
              "      <td>3.44</td>\n",
              "    </tr>\n",
              "    <tr>\n",
              "      <th>녹십자엠에스</th>\n",
              "      <td>142280</td>\n",
              "      <td>2355</td>\n",
              "      <td>3.59</td>\n",
              "    </tr>\n",
              "    <tr>\n",
              "      <th>하이제2호스팩</th>\n",
              "      <td>205470</td>\n",
              "      <td>6126</td>\n",
              "      <td>3.93</td>\n",
              "    </tr>\n",
              "    <tr>\n",
              "      <th>미스터블루</th>\n",
              "      <td>207760</td>\n",
              "      <td>2860</td>\n",
              "      <td>4.28</td>\n",
              "    </tr>\n",
              "    <tr>\n",
              "      <th>테고사이언스</th>\n",
              "      <td>191420</td>\n",
              "      <td>2254</td>\n",
              "      <td>4.31</td>\n",
              "    </tr>\n",
              "    <tr>\n",
              "      <th>텔콘</th>\n",
              "      <td>200230</td>\n",
              "      <td>4135</td>\n",
              "      <td>4.61</td>\n",
              "    </tr>\n",
              "    <tr>\n",
              "      <th>액션스퀘어</th>\n",
              "      <td>205500</td>\n",
              "      <td>2596</td>\n",
              "      <td>5.07</td>\n",
              "    </tr>\n",
              "    <tr>\n",
              "      <th>지엘팜텍</th>\n",
              "      <td>204840</td>\n",
              "      <td>697</td>\n",
              "      <td>5.12</td>\n",
              "    </tr>\n",
              "    <tr>\n",
              "      <th>프로스테믹스</th>\n",
              "      <td>203690</td>\n",
              "      <td>1748</td>\n",
              "      <td>5.42</td>\n",
              "    </tr>\n",
              "    <tr>\n",
              "      <th>데브시스터즈</th>\n",
              "      <td>194480</td>\n",
              "      <td>10179</td>\n",
              "      <td>8.03</td>\n",
              "    </tr>\n",
              "    <tr>\n",
              "      <th>썸에이지</th>\n",
              "      <td>208640</td>\n",
              "      <td>4391</td>\n",
              "      <td>9.8</td>\n",
              "    </tr>\n",
              "    <tr>\n",
              "      <th>오킨스전자</th>\n",
              "      <td>080580</td>\n",
              "      <td>3589</td>\n",
              "      <td>17.03</td>\n",
              "    </tr>\n",
              "    <tr>\n",
              "      <th>알테오젠</th>\n",
              "      <td>196170</td>\n",
              "      <td>40197</td>\n",
              "      <td>17.18</td>\n",
              "    </tr>\n",
              "  </tbody>\n",
              "</table>\n",
              "</div>"
            ],
            "text/plain": [
              "             Code Market_Value    PBR\n",
              "파티게임즈      194510           72   0.35\n",
              "대창스틸       140520          797   0.66\n",
              "아스트        067390         1968   1.02\n",
              "디티앤씨       187220          838   1.03\n",
              "포시에스       189690          761   1.06\n",
              "슈피겐코리아     192440         3506   1.06\n",
              "테라셈        182690          305   1.26\n",
              "지란지교시큐리티   208350          624   1.26\n",
              "디에이테크놀로지   196490         1413   1.43\n",
              "에프엔씨엔터     173940          909   1.44\n",
              "비씨월드제약     200780         1658   1.45\n",
              "유안타제1호스팩   204620         1869   1.46\n",
              "하이로닉       149980          939    1.5\n",
              "영우디에스피     143540         1284   1.67\n",
              "정다운        208140         1332   1.67\n",
              "휴메딕스       200670         3595   1.74\n",
              "메디아나       041920         1211   1.76\n",
              "아이티센       124500         1264    1.9\n",
              "와이제이엠게임즈   193250         1427   1.91\n",
              "랩지노믹스      084650         2880   2.04\n",
              "엑셈         205100         1528   2.05\n",
              "퓨쳐스트림네트웍스  214270         1619   2.12\n",
              "바이오로그디바이스  208710         2183   2.19\n",
              "에이디테크놀로지   200710         3286    2.2\n",
              "셀바스헬스케어    208370          610   2.34\n",
              "엔터메이트      206400         1563   2.59\n",
              "바디텍메드      206640         5273      3\n",
              "드림시큐리티     203650         2697   3.08\n",
              "NEW        160550         2763   3.44\n",
              "녹십자엠에스     142280         2355   3.59\n",
              "하이제2호스팩    205470         6126   3.93\n",
              "미스터블루      207760         2860   4.28\n",
              "테고사이언스     191420         2254   4.31\n",
              "텔콘         200230         4135   4.61\n",
              "액션스퀘어      205500         2596   5.07\n",
              "지엘팜텍       204840          697   5.12\n",
              "프로스테믹스     203690         1748   5.42\n",
              "데브시스터즈     194480        10179   8.03\n",
              "썸에이지       208640         4391    9.8\n",
              "오킨스전자      080580         3589  17.03\n",
              "알테오젠       196170        40197  17.18"
            ]
          },
          "metadata": {
            "tags": []
          },
          "execution_count": 48
        }
      ]
    },
    {
      "cell_type": "code",
      "metadata": {
        "id": "37lfw3ND_iGw"
      },
      "source": [
        ""
      ],
      "execution_count": null,
      "outputs": []
    },
    {
      "cell_type": "code",
      "metadata": {
        "id": "il9Fmm8H_iIu"
      },
      "source": [
        ""
      ],
      "execution_count": null,
      "outputs": []
    },
    {
      "cell_type": "code",
      "metadata": {
        "id": "ocw_iD2g_iK0"
      },
      "source": [
        ""
      ],
      "execution_count": null,
      "outputs": []
    },
    {
      "cell_type": "code",
      "metadata": {
        "id": "pe0ldekQ_iMr"
      },
      "source": [
        ""
      ],
      "execution_count": null,
      "outputs": []
    },
    {
      "cell_type": "code",
      "metadata": {
        "id": "n1RKbVOA_iPR"
      },
      "source": [
        ""
      ],
      "execution_count": null,
      "outputs": []
    },
    {
      "cell_type": "code",
      "metadata": {
        "id": "g2wUtz1t_iRV"
      },
      "source": [
        ""
      ],
      "execution_count": null,
      "outputs": []
    },
    {
      "cell_type": "code",
      "metadata": {
        "id": "tt98848M_iTt"
      },
      "source": [
        ""
      ],
      "execution_count": null,
      "outputs": []
    },
    {
      "cell_type": "code",
      "metadata": {
        "id": "tAGeFMFy_iXa"
      },
      "source": [
        ""
      ],
      "execution_count": null,
      "outputs": []
    },
    {
      "cell_type": "code",
      "metadata": {
        "id": "iq5xJ70F_iaE"
      },
      "source": [
        ""
      ],
      "execution_count": null,
      "outputs": []
    },
    {
      "cell_type": "code",
      "metadata": {
        "id": "NdxQsKpt_ib8"
      },
      "source": [
        ""
      ],
      "execution_count": null,
      "outputs": []
    },
    {
      "cell_type": "code",
      "metadata": {
        "id": "GTMdXnfa_ieK"
      },
      "source": [
        ""
      ],
      "execution_count": null,
      "outputs": []
    },
    {
      "cell_type": "code",
      "metadata": {
        "id": "prwjcLUV_igN"
      },
      "source": [
        ""
      ],
      "execution_count": null,
      "outputs": []
    },
    {
      "cell_type": "code",
      "metadata": {
        "id": "gJJBvvL7_iil"
      },
      "source": [
        ""
      ],
      "execution_count": null,
      "outputs": []
    },
    {
      "cell_type": "code",
      "metadata": {
        "id": "NkHcJT2M_iky"
      },
      "source": [
        ""
      ],
      "execution_count": null,
      "outputs": []
    },
    {
      "cell_type": "code",
      "metadata": {
        "id": "cMDtxtgw_imt"
      },
      "source": [
        ""
      ],
      "execution_count": null,
      "outputs": []
    },
    {
      "cell_type": "code",
      "metadata": {
        "id": "JSD1rTWg_io5"
      },
      "source": [
        ""
      ],
      "execution_count": null,
      "outputs": []
    },
    {
      "cell_type": "code",
      "metadata": {
        "id": "YLidZHM3_iq2"
      },
      "source": [
        ""
      ],
      "execution_count": null,
      "outputs": []
    },
    {
      "cell_type": "code",
      "metadata": {
        "id": "ptQaTuj5_is9"
      },
      "source": [
        ""
      ],
      "execution_count": null,
      "outputs": []
    },
    {
      "cell_type": "code",
      "metadata": {
        "id": "XIWf7o-K_ivg"
      },
      "source": [
        ""
      ],
      "execution_count": null,
      "outputs": []
    },
    {
      "cell_type": "code",
      "metadata": {
        "id": "0taGc2ln_i1Y"
      },
      "source": [
        ""
      ],
      "execution_count": null,
      "outputs": []
    },
    {
      "cell_type": "code",
      "metadata": {
        "id": "_JVCfLrd_i3J"
      },
      "source": [
        ""
      ],
      "execution_count": null,
      "outputs": []
    }
  ]
}